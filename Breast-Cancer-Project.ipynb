{
 "cells": [
  {
   "cell_type": "markdown",
   "metadata": {},
   "source": [
    "# Breast Cancer Project"
   ]
  },
  {
   "cell_type": "markdown",
   "metadata": {},
   "source": [
    "This project is done under DSC 540 - Advanced Machine Learning\n",
    "Instructor: Ilyas Ustun, PhD  \n",
    "Location: Chicago, IL  "
   ]
  },
  {
   "cell_type": "code",
   "execution_count": 1,
   "metadata": {},
   "outputs": [
    {
     "data": {
      "text/plain": [
       "'0.21.3'"
      ]
     },
     "execution_count": 1,
     "metadata": {},
     "output_type": "execute_result"
    }
   ],
   "source": [
    "import sklearn\n",
    "sklearn.__version__"
   ]
  },
  {
   "cell_type": "code",
   "execution_count": 2,
   "metadata": {},
   "outputs": [],
   "source": [
    "#ignore warnings\n",
    "import warnings\n",
    "warnings.filterwarnings('ignore')"
   ]
  },
  {
   "cell_type": "code",
   "execution_count": 3,
   "metadata": {
    "colab": {},
    "colab_type": "code",
    "id": "1X8uH9FQn7ZV"
   },
   "outputs": [],
   "source": [
    "from sklearn.model_selection import train_test_split\n",
    "from sklearn import metrics\n",
    "\n",
    "import matplotlib.pyplot as plt\n",
    "import pandas as pd\n",
    "import numpy as np\n",
    "import seaborn as sns"
   ]
  },
  {
   "cell_type": "code",
   "execution_count": 4,
   "metadata": {},
   "outputs": [],
   "source": [
    "pd.set_option('display.max_columns', 100)"
   ]
  },
  {
   "cell_type": "markdown",
   "metadata": {},
   "source": [
    "## The Data"
   ]
  },
  {
   "cell_type": "markdown",
   "metadata": {},
   "source": [
    "In this project, we will be working with the **Breast Cancer Wisconsin dataset**, which\n",
    "contains 569 examples of malignant and benign tumor cells.  \n",
    "The Breast Cancer Wisconsin dataset can be found in the UCI\n",
    "Machine Learning Repository, and more detailed information about this dataset can\n",
    "be found at https://archive.ics.uci.edu/ml/datasets/Breast+Cancer+Wisconsin+(Diagnostic).  \n",
    "The first two columns in the dataset store the unique ID numbers of the examples and the corresponding\n",
    "diagnoses (M = malignant, B = benign), respectively.   \n",
    "Columns 3-32 contain 30 real-valued features that have been computed from digitized images of the cell\n",
    "nuclei, which can be used to build a model to predict whether a tumor is benign\n",
    "or malignant.  "
   ]
  },
  {
   "cell_type": "markdown",
   "metadata": {},
   "source": [
    "## Load dataset"
   ]
  },
  {
   "cell_type": "code",
   "execution_count": 6,
   "metadata": {
    "colab": {
     "base_uri": "https://localhost:8080/",
     "height": 51
    },
    "colab_type": "code",
    "id": "HfInD40bJbpC",
    "outputId": "77c4d333-9c77-4013-89ce-e7fca9a97c1c"
   },
   "outputs": [],
   "source": [
    "# Load the dataset from UCI\n",
    "df = pd.read_csv(\n",
    "'https://archive.ics.uci.edu/ml/'\n",
    "'machine-learning-databases'\n",
    "'/breast-cancer-wisconsin/wdbc.data',\n",
    "header=None)"
   ]
  },
  {
   "cell_type": "code",
   "execution_count": 7,
   "metadata": {
    "scrolled": true
   },
   "outputs": [
    {
     "data": {
      "text/html": [
       "<div>\n",
       "<style scoped>\n",
       "    .dataframe tbody tr th:only-of-type {\n",
       "        vertical-align: middle;\n",
       "    }\n",
       "\n",
       "    .dataframe tbody tr th {\n",
       "        vertical-align: top;\n",
       "    }\n",
       "\n",
       "    .dataframe thead th {\n",
       "        text-align: right;\n",
       "    }\n",
       "</style>\n",
       "<table border=\"1\" class=\"dataframe\">\n",
       "  <thead>\n",
       "    <tr style=\"text-align: right;\">\n",
       "      <th></th>\n",
       "      <th>0</th>\n",
       "      <th>1</th>\n",
       "      <th>2</th>\n",
       "      <th>3</th>\n",
       "      <th>4</th>\n",
       "      <th>5</th>\n",
       "      <th>6</th>\n",
       "      <th>7</th>\n",
       "      <th>8</th>\n",
       "      <th>9</th>\n",
       "      <th>10</th>\n",
       "      <th>11</th>\n",
       "      <th>12</th>\n",
       "      <th>13</th>\n",
       "      <th>14</th>\n",
       "      <th>15</th>\n",
       "      <th>16</th>\n",
       "      <th>17</th>\n",
       "      <th>18</th>\n",
       "      <th>19</th>\n",
       "      <th>20</th>\n",
       "      <th>21</th>\n",
       "      <th>22</th>\n",
       "      <th>23</th>\n",
       "      <th>24</th>\n",
       "      <th>25</th>\n",
       "      <th>26</th>\n",
       "      <th>27</th>\n",
       "      <th>28</th>\n",
       "      <th>29</th>\n",
       "      <th>30</th>\n",
       "      <th>31</th>\n",
       "    </tr>\n",
       "  </thead>\n",
       "  <tbody>\n",
       "    <tr>\n",
       "      <th>0</th>\n",
       "      <td>842302</td>\n",
       "      <td>M</td>\n",
       "      <td>17.99</td>\n",
       "      <td>10.38</td>\n",
       "      <td>122.80</td>\n",
       "      <td>1001.0</td>\n",
       "      <td>0.11840</td>\n",
       "      <td>0.27760</td>\n",
       "      <td>0.3001</td>\n",
       "      <td>0.14710</td>\n",
       "      <td>0.2419</td>\n",
       "      <td>0.07871</td>\n",
       "      <td>1.0950</td>\n",
       "      <td>0.9053</td>\n",
       "      <td>8.589</td>\n",
       "      <td>153.40</td>\n",
       "      <td>0.006399</td>\n",
       "      <td>0.04904</td>\n",
       "      <td>0.05373</td>\n",
       "      <td>0.01587</td>\n",
       "      <td>0.03003</td>\n",
       "      <td>0.006193</td>\n",
       "      <td>25.38</td>\n",
       "      <td>17.33</td>\n",
       "      <td>184.60</td>\n",
       "      <td>2019.0</td>\n",
       "      <td>0.1622</td>\n",
       "      <td>0.6656</td>\n",
       "      <td>0.7119</td>\n",
       "      <td>0.2654</td>\n",
       "      <td>0.4601</td>\n",
       "      <td>0.11890</td>\n",
       "    </tr>\n",
       "    <tr>\n",
       "      <th>1</th>\n",
       "      <td>842517</td>\n",
       "      <td>M</td>\n",
       "      <td>20.57</td>\n",
       "      <td>17.77</td>\n",
       "      <td>132.90</td>\n",
       "      <td>1326.0</td>\n",
       "      <td>0.08474</td>\n",
       "      <td>0.07864</td>\n",
       "      <td>0.0869</td>\n",
       "      <td>0.07017</td>\n",
       "      <td>0.1812</td>\n",
       "      <td>0.05667</td>\n",
       "      <td>0.5435</td>\n",
       "      <td>0.7339</td>\n",
       "      <td>3.398</td>\n",
       "      <td>74.08</td>\n",
       "      <td>0.005225</td>\n",
       "      <td>0.01308</td>\n",
       "      <td>0.01860</td>\n",
       "      <td>0.01340</td>\n",
       "      <td>0.01389</td>\n",
       "      <td>0.003532</td>\n",
       "      <td>24.99</td>\n",
       "      <td>23.41</td>\n",
       "      <td>158.80</td>\n",
       "      <td>1956.0</td>\n",
       "      <td>0.1238</td>\n",
       "      <td>0.1866</td>\n",
       "      <td>0.2416</td>\n",
       "      <td>0.1860</td>\n",
       "      <td>0.2750</td>\n",
       "      <td>0.08902</td>\n",
       "    </tr>\n",
       "    <tr>\n",
       "      <th>2</th>\n",
       "      <td>84300903</td>\n",
       "      <td>M</td>\n",
       "      <td>19.69</td>\n",
       "      <td>21.25</td>\n",
       "      <td>130.00</td>\n",
       "      <td>1203.0</td>\n",
       "      <td>0.10960</td>\n",
       "      <td>0.15990</td>\n",
       "      <td>0.1974</td>\n",
       "      <td>0.12790</td>\n",
       "      <td>0.2069</td>\n",
       "      <td>0.05999</td>\n",
       "      <td>0.7456</td>\n",
       "      <td>0.7869</td>\n",
       "      <td>4.585</td>\n",
       "      <td>94.03</td>\n",
       "      <td>0.006150</td>\n",
       "      <td>0.04006</td>\n",
       "      <td>0.03832</td>\n",
       "      <td>0.02058</td>\n",
       "      <td>0.02250</td>\n",
       "      <td>0.004571</td>\n",
       "      <td>23.57</td>\n",
       "      <td>25.53</td>\n",
       "      <td>152.50</td>\n",
       "      <td>1709.0</td>\n",
       "      <td>0.1444</td>\n",
       "      <td>0.4245</td>\n",
       "      <td>0.4504</td>\n",
       "      <td>0.2430</td>\n",
       "      <td>0.3613</td>\n",
       "      <td>0.08758</td>\n",
       "    </tr>\n",
       "    <tr>\n",
       "      <th>3</th>\n",
       "      <td>84348301</td>\n",
       "      <td>M</td>\n",
       "      <td>11.42</td>\n",
       "      <td>20.38</td>\n",
       "      <td>77.58</td>\n",
       "      <td>386.1</td>\n",
       "      <td>0.14250</td>\n",
       "      <td>0.28390</td>\n",
       "      <td>0.2414</td>\n",
       "      <td>0.10520</td>\n",
       "      <td>0.2597</td>\n",
       "      <td>0.09744</td>\n",
       "      <td>0.4956</td>\n",
       "      <td>1.1560</td>\n",
       "      <td>3.445</td>\n",
       "      <td>27.23</td>\n",
       "      <td>0.009110</td>\n",
       "      <td>0.07458</td>\n",
       "      <td>0.05661</td>\n",
       "      <td>0.01867</td>\n",
       "      <td>0.05963</td>\n",
       "      <td>0.009208</td>\n",
       "      <td>14.91</td>\n",
       "      <td>26.50</td>\n",
       "      <td>98.87</td>\n",
       "      <td>567.7</td>\n",
       "      <td>0.2098</td>\n",
       "      <td>0.8663</td>\n",
       "      <td>0.6869</td>\n",
       "      <td>0.2575</td>\n",
       "      <td>0.6638</td>\n",
       "      <td>0.17300</td>\n",
       "    </tr>\n",
       "    <tr>\n",
       "      <th>4</th>\n",
       "      <td>84358402</td>\n",
       "      <td>M</td>\n",
       "      <td>20.29</td>\n",
       "      <td>14.34</td>\n",
       "      <td>135.10</td>\n",
       "      <td>1297.0</td>\n",
       "      <td>0.10030</td>\n",
       "      <td>0.13280</td>\n",
       "      <td>0.1980</td>\n",
       "      <td>0.10430</td>\n",
       "      <td>0.1809</td>\n",
       "      <td>0.05883</td>\n",
       "      <td>0.7572</td>\n",
       "      <td>0.7813</td>\n",
       "      <td>5.438</td>\n",
       "      <td>94.44</td>\n",
       "      <td>0.011490</td>\n",
       "      <td>0.02461</td>\n",
       "      <td>0.05688</td>\n",
       "      <td>0.01885</td>\n",
       "      <td>0.01756</td>\n",
       "      <td>0.005115</td>\n",
       "      <td>22.54</td>\n",
       "      <td>16.67</td>\n",
       "      <td>152.20</td>\n",
       "      <td>1575.0</td>\n",
       "      <td>0.1374</td>\n",
       "      <td>0.2050</td>\n",
       "      <td>0.4000</td>\n",
       "      <td>0.1625</td>\n",
       "      <td>0.2364</td>\n",
       "      <td>0.07678</td>\n",
       "    </tr>\n",
       "  </tbody>\n",
       "</table>\n",
       "</div>"
      ],
      "text/plain": [
       "         0  1      2      3       4       5        6        7       8   \\\n",
       "0    842302  M  17.99  10.38  122.80  1001.0  0.11840  0.27760  0.3001   \n",
       "1    842517  M  20.57  17.77  132.90  1326.0  0.08474  0.07864  0.0869   \n",
       "2  84300903  M  19.69  21.25  130.00  1203.0  0.10960  0.15990  0.1974   \n",
       "3  84348301  M  11.42  20.38   77.58   386.1  0.14250  0.28390  0.2414   \n",
       "4  84358402  M  20.29  14.34  135.10  1297.0  0.10030  0.13280  0.1980   \n",
       "\n",
       "        9       10       11      12      13     14      15        16       17  \\\n",
       "0  0.14710  0.2419  0.07871  1.0950  0.9053  8.589  153.40  0.006399  0.04904   \n",
       "1  0.07017  0.1812  0.05667  0.5435  0.7339  3.398   74.08  0.005225  0.01308   \n",
       "2  0.12790  0.2069  0.05999  0.7456  0.7869  4.585   94.03  0.006150  0.04006   \n",
       "3  0.10520  0.2597  0.09744  0.4956  1.1560  3.445   27.23  0.009110  0.07458   \n",
       "4  0.10430  0.1809  0.05883  0.7572  0.7813  5.438   94.44  0.011490  0.02461   \n",
       "\n",
       "        18       19       20        21     22     23      24      25      26  \\\n",
       "0  0.05373  0.01587  0.03003  0.006193  25.38  17.33  184.60  2019.0  0.1622   \n",
       "1  0.01860  0.01340  0.01389  0.003532  24.99  23.41  158.80  1956.0  0.1238   \n",
       "2  0.03832  0.02058  0.02250  0.004571  23.57  25.53  152.50  1709.0  0.1444   \n",
       "3  0.05661  0.01867  0.05963  0.009208  14.91  26.50   98.87   567.7  0.2098   \n",
       "4  0.05688  0.01885  0.01756  0.005115  22.54  16.67  152.20  1575.0  0.1374   \n",
       "\n",
       "       27      28      29      30       31  \n",
       "0  0.6656  0.7119  0.2654  0.4601  0.11890  \n",
       "1  0.1866  0.2416  0.1860  0.2750  0.08902  \n",
       "2  0.4245  0.4504  0.2430  0.3613  0.08758  \n",
       "3  0.8663  0.6869  0.2575  0.6638  0.17300  \n",
       "4  0.2050  0.4000  0.1625  0.2364  0.07678  "
      ]
     },
     "execution_count": 7,
     "metadata": {},
     "output_type": "execute_result"
    }
   ],
   "source": [
    "df.head()"
   ]
  },
  {
   "cell_type": "markdown",
   "metadata": {},
   "source": [
    "- Since this dataset does not have headers, we will read the data file that I have created.\n",
    "- Last column is the target column.\n",
    "- The ID column is dropped."
   ]
  },
  {
   "cell_type": "code",
   "execution_count": 8,
   "metadata": {},
   "outputs": [],
   "source": [
    "df = pd.read_csv('WisconsinBreastCancer.csv')\n",
    "X = df.drop('target', axis=1)\n",
    "y = df.target"
   ]
  },
  {
   "cell_type": "code",
   "execution_count": 9,
   "metadata": {},
   "outputs": [],
   "source": [
    "#df.head()"
   ]
  },
  {
   "cell_type": "code",
   "execution_count": 10,
   "metadata": {},
   "outputs": [
    {
     "data": {
      "text/html": [
       "<div>\n",
       "<style scoped>\n",
       "    .dataframe tbody tr th:only-of-type {\n",
       "        vertical-align: middle;\n",
       "    }\n",
       "\n",
       "    .dataframe tbody tr th {\n",
       "        vertical-align: top;\n",
       "    }\n",
       "\n",
       "    .dataframe thead th {\n",
       "        text-align: right;\n",
       "    }\n",
       "</style>\n",
       "<table border=\"1\" class=\"dataframe\">\n",
       "  <thead>\n",
       "    <tr style=\"text-align: right;\">\n",
       "      <th></th>\n",
       "      <th>mean radius</th>\n",
       "      <th>mean texture</th>\n",
       "      <th>mean perimeter</th>\n",
       "      <th>mean area</th>\n",
       "      <th>mean smoothness</th>\n",
       "      <th>mean compactness</th>\n",
       "      <th>mean concavity</th>\n",
       "      <th>mean concave points</th>\n",
       "      <th>mean symmetry</th>\n",
       "      <th>mean fractal dimension</th>\n",
       "      <th>radius error</th>\n",
       "      <th>texture error</th>\n",
       "      <th>perimeter error</th>\n",
       "      <th>area error</th>\n",
       "      <th>smoothness error</th>\n",
       "      <th>compactness error</th>\n",
       "      <th>concavity error</th>\n",
       "      <th>concave points error</th>\n",
       "      <th>symmetry error</th>\n",
       "      <th>fractal dimension error</th>\n",
       "      <th>worst radius</th>\n",
       "      <th>worst texture</th>\n",
       "      <th>worst perimeter</th>\n",
       "      <th>worst area</th>\n",
       "      <th>worst smoothness</th>\n",
       "      <th>worst compactness</th>\n",
       "      <th>worst concavity</th>\n",
       "      <th>worst concave points</th>\n",
       "      <th>worst symmetry</th>\n",
       "      <th>worst fractal dimension</th>\n",
       "    </tr>\n",
       "  </thead>\n",
       "  <tbody>\n",
       "    <tr>\n",
       "      <th>0</th>\n",
       "      <td>17.99</td>\n",
       "      <td>10.38</td>\n",
       "      <td>122.80</td>\n",
       "      <td>1001.0</td>\n",
       "      <td>0.11840</td>\n",
       "      <td>0.27760</td>\n",
       "      <td>0.3001</td>\n",
       "      <td>0.14710</td>\n",
       "      <td>0.2419</td>\n",
       "      <td>0.07871</td>\n",
       "      <td>1.0950</td>\n",
       "      <td>0.9053</td>\n",
       "      <td>8.589</td>\n",
       "      <td>153.40</td>\n",
       "      <td>0.006399</td>\n",
       "      <td>0.04904</td>\n",
       "      <td>0.05373</td>\n",
       "      <td>0.01587</td>\n",
       "      <td>0.03003</td>\n",
       "      <td>0.006193</td>\n",
       "      <td>25.38</td>\n",
       "      <td>17.33</td>\n",
       "      <td>184.60</td>\n",
       "      <td>2019.0</td>\n",
       "      <td>0.1622</td>\n",
       "      <td>0.6656</td>\n",
       "      <td>0.7119</td>\n",
       "      <td>0.2654</td>\n",
       "      <td>0.4601</td>\n",
       "      <td>0.11890</td>\n",
       "    </tr>\n",
       "    <tr>\n",
       "      <th>1</th>\n",
       "      <td>20.57</td>\n",
       "      <td>17.77</td>\n",
       "      <td>132.90</td>\n",
       "      <td>1326.0</td>\n",
       "      <td>0.08474</td>\n",
       "      <td>0.07864</td>\n",
       "      <td>0.0869</td>\n",
       "      <td>0.07017</td>\n",
       "      <td>0.1812</td>\n",
       "      <td>0.05667</td>\n",
       "      <td>0.5435</td>\n",
       "      <td>0.7339</td>\n",
       "      <td>3.398</td>\n",
       "      <td>74.08</td>\n",
       "      <td>0.005225</td>\n",
       "      <td>0.01308</td>\n",
       "      <td>0.01860</td>\n",
       "      <td>0.01340</td>\n",
       "      <td>0.01389</td>\n",
       "      <td>0.003532</td>\n",
       "      <td>24.99</td>\n",
       "      <td>23.41</td>\n",
       "      <td>158.80</td>\n",
       "      <td>1956.0</td>\n",
       "      <td>0.1238</td>\n",
       "      <td>0.1866</td>\n",
       "      <td>0.2416</td>\n",
       "      <td>0.1860</td>\n",
       "      <td>0.2750</td>\n",
       "      <td>0.08902</td>\n",
       "    </tr>\n",
       "    <tr>\n",
       "      <th>2</th>\n",
       "      <td>19.69</td>\n",
       "      <td>21.25</td>\n",
       "      <td>130.00</td>\n",
       "      <td>1203.0</td>\n",
       "      <td>0.10960</td>\n",
       "      <td>0.15990</td>\n",
       "      <td>0.1974</td>\n",
       "      <td>0.12790</td>\n",
       "      <td>0.2069</td>\n",
       "      <td>0.05999</td>\n",
       "      <td>0.7456</td>\n",
       "      <td>0.7869</td>\n",
       "      <td>4.585</td>\n",
       "      <td>94.03</td>\n",
       "      <td>0.006150</td>\n",
       "      <td>0.04006</td>\n",
       "      <td>0.03832</td>\n",
       "      <td>0.02058</td>\n",
       "      <td>0.02250</td>\n",
       "      <td>0.004571</td>\n",
       "      <td>23.57</td>\n",
       "      <td>25.53</td>\n",
       "      <td>152.50</td>\n",
       "      <td>1709.0</td>\n",
       "      <td>0.1444</td>\n",
       "      <td>0.4245</td>\n",
       "      <td>0.4504</td>\n",
       "      <td>0.2430</td>\n",
       "      <td>0.3613</td>\n",
       "      <td>0.08758</td>\n",
       "    </tr>\n",
       "    <tr>\n",
       "      <th>3</th>\n",
       "      <td>11.42</td>\n",
       "      <td>20.38</td>\n",
       "      <td>77.58</td>\n",
       "      <td>386.1</td>\n",
       "      <td>0.14250</td>\n",
       "      <td>0.28390</td>\n",
       "      <td>0.2414</td>\n",
       "      <td>0.10520</td>\n",
       "      <td>0.2597</td>\n",
       "      <td>0.09744</td>\n",
       "      <td>0.4956</td>\n",
       "      <td>1.1560</td>\n",
       "      <td>3.445</td>\n",
       "      <td>27.23</td>\n",
       "      <td>0.009110</td>\n",
       "      <td>0.07458</td>\n",
       "      <td>0.05661</td>\n",
       "      <td>0.01867</td>\n",
       "      <td>0.05963</td>\n",
       "      <td>0.009208</td>\n",
       "      <td>14.91</td>\n",
       "      <td>26.50</td>\n",
       "      <td>98.87</td>\n",
       "      <td>567.7</td>\n",
       "      <td>0.2098</td>\n",
       "      <td>0.8663</td>\n",
       "      <td>0.6869</td>\n",
       "      <td>0.2575</td>\n",
       "      <td>0.6638</td>\n",
       "      <td>0.17300</td>\n",
       "    </tr>\n",
       "    <tr>\n",
       "      <th>4</th>\n",
       "      <td>20.29</td>\n",
       "      <td>14.34</td>\n",
       "      <td>135.10</td>\n",
       "      <td>1297.0</td>\n",
       "      <td>0.10030</td>\n",
       "      <td>0.13280</td>\n",
       "      <td>0.1980</td>\n",
       "      <td>0.10430</td>\n",
       "      <td>0.1809</td>\n",
       "      <td>0.05883</td>\n",
       "      <td>0.7572</td>\n",
       "      <td>0.7813</td>\n",
       "      <td>5.438</td>\n",
       "      <td>94.44</td>\n",
       "      <td>0.011490</td>\n",
       "      <td>0.02461</td>\n",
       "      <td>0.05688</td>\n",
       "      <td>0.01885</td>\n",
       "      <td>0.01756</td>\n",
       "      <td>0.005115</td>\n",
       "      <td>22.54</td>\n",
       "      <td>16.67</td>\n",
       "      <td>152.20</td>\n",
       "      <td>1575.0</td>\n",
       "      <td>0.1374</td>\n",
       "      <td>0.2050</td>\n",
       "      <td>0.4000</td>\n",
       "      <td>0.1625</td>\n",
       "      <td>0.2364</td>\n",
       "      <td>0.07678</td>\n",
       "    </tr>\n",
       "  </tbody>\n",
       "</table>\n",
       "</div>"
      ],
      "text/plain": [
       "   mean radius  mean texture  mean perimeter  mean area  mean smoothness  \\\n",
       "0        17.99         10.38          122.80     1001.0          0.11840   \n",
       "1        20.57         17.77          132.90     1326.0          0.08474   \n",
       "2        19.69         21.25          130.00     1203.0          0.10960   \n",
       "3        11.42         20.38           77.58      386.1          0.14250   \n",
       "4        20.29         14.34          135.10     1297.0          0.10030   \n",
       "\n",
       "   mean compactness  mean concavity  mean concave points  mean symmetry  \\\n",
       "0           0.27760          0.3001              0.14710         0.2419   \n",
       "1           0.07864          0.0869              0.07017         0.1812   \n",
       "2           0.15990          0.1974              0.12790         0.2069   \n",
       "3           0.28390          0.2414              0.10520         0.2597   \n",
       "4           0.13280          0.1980              0.10430         0.1809   \n",
       "\n",
       "   mean fractal dimension  radius error  texture error  perimeter error  \\\n",
       "0                 0.07871        1.0950         0.9053            8.589   \n",
       "1                 0.05667        0.5435         0.7339            3.398   \n",
       "2                 0.05999        0.7456         0.7869            4.585   \n",
       "3                 0.09744        0.4956         1.1560            3.445   \n",
       "4                 0.05883        0.7572         0.7813            5.438   \n",
       "\n",
       "   area error  smoothness error  compactness error  concavity error  \\\n",
       "0      153.40          0.006399            0.04904          0.05373   \n",
       "1       74.08          0.005225            0.01308          0.01860   \n",
       "2       94.03          0.006150            0.04006          0.03832   \n",
       "3       27.23          0.009110            0.07458          0.05661   \n",
       "4       94.44          0.011490            0.02461          0.05688   \n",
       "\n",
       "   concave points error  symmetry error  fractal dimension error  \\\n",
       "0               0.01587         0.03003                 0.006193   \n",
       "1               0.01340         0.01389                 0.003532   \n",
       "2               0.02058         0.02250                 0.004571   \n",
       "3               0.01867         0.05963                 0.009208   \n",
       "4               0.01885         0.01756                 0.005115   \n",
       "\n",
       "   worst radius  worst texture  worst perimeter  worst area  worst smoothness  \\\n",
       "0         25.38          17.33           184.60      2019.0            0.1622   \n",
       "1         24.99          23.41           158.80      1956.0            0.1238   \n",
       "2         23.57          25.53           152.50      1709.0            0.1444   \n",
       "3         14.91          26.50            98.87       567.7            0.2098   \n",
       "4         22.54          16.67           152.20      1575.0            0.1374   \n",
       "\n",
       "   worst compactness  worst concavity  worst concave points  worst symmetry  \\\n",
       "0             0.6656           0.7119                0.2654          0.4601   \n",
       "1             0.1866           0.2416                0.1860          0.2750   \n",
       "2             0.4245           0.4504                0.2430          0.3613   \n",
       "3             0.8663           0.6869                0.2575          0.6638   \n",
       "4             0.2050           0.4000                0.1625          0.2364   \n",
       "\n",
       "   worst fractal dimension  \n",
       "0                  0.11890  \n",
       "1                  0.08902  \n",
       "2                  0.08758  \n",
       "3                  0.17300  \n",
       "4                  0.07678  "
      ]
     },
     "execution_count": 10,
     "metadata": {},
     "output_type": "execute_result"
    }
   ],
   "source": [
    "X.head()"
   ]
  },
  {
   "cell_type": "markdown",
   "metadata": {},
   "source": [
    "The target vector is `y`."
   ]
  },
  {
   "cell_type": "code",
   "execution_count": 11,
   "metadata": {
    "scrolled": true
   },
   "outputs": [
    {
     "data": {
      "text/plain": [
       "0    1\n",
       "1    1\n",
       "2    1\n",
       "3    1\n",
       "4    1\n",
       "Name: target, dtype: int64"
      ]
     },
     "execution_count": 11,
     "metadata": {},
     "output_type": "execute_result"
    }
   ],
   "source": [
    "y.head()"
   ]
  },
  {
   "cell_type": "markdown",
   "metadata": {},
   "source": [
    "How many people have cancer?"
   ]
  },
  {
   "cell_type": "markdown",
   "metadata": {},
   "source": [
    "> Hint: Should be less than 300!"
   ]
  },
  {
   "cell_type": "code",
   "execution_count": 12,
   "metadata": {},
   "outputs": [
    {
     "name": "stdout",
     "output_type": "stream",
     "text": [
      "Malinant: 212 Benign: 357\n"
     ]
    }
   ],
   "source": [
    "index = y.index\n",
    "rows = len(index)\n",
    "m = 0\n",
    "for i in y:\n",
    "    if i == 1:\n",
    "        m += 1\n",
    "print(\"Malinant:\", m,\"Benign:\", rows-m)"
   ]
  },
  {
   "cell_type": "code",
   "execution_count": 13,
   "metadata": {},
   "outputs": [
    {
     "data": {
      "text/plain": [
       "0    357\n",
       "1    212\n",
       "Name: target, dtype: int64"
      ]
     },
     "execution_count": 13,
     "metadata": {},
     "output_type": "execute_result"
    }
   ],
   "source": [
    "df['target'].value_counts()"
   ]
  },
  {
   "cell_type": "markdown",
   "metadata": {},
   "source": [
    "There are 212 number of people have cancer. Since out of 569 people, there are 212 people with malignant diagnosis and 357 people have got benign results."
   ]
  },
  {
   "cell_type": "markdown",
   "metadata": {},
   "source": [
    "Check the data and investigate the column types. Is there any categorical data? Any missing values? \n",
    "How many observations? How many variables are there in the feature set (`X`)?"
   ]
  },
  {
   "cell_type": "code",
   "execution_count": 14,
   "metadata": {},
   "outputs": [
    {
     "name": "stdout",
     "output_type": "stream",
     "text": [
      "<class 'pandas.core.frame.DataFrame'>\n",
      "RangeIndex: 569 entries, 0 to 568\n",
      "Data columns (total 30 columns):\n",
      " #   Column                   Non-Null Count  Dtype  \n",
      "---  ------                   --------------  -----  \n",
      " 0   mean radius              569 non-null    float64\n",
      " 1   mean texture             569 non-null    float64\n",
      " 2   mean perimeter           569 non-null    float64\n",
      " 3   mean area                569 non-null    float64\n",
      " 4   mean smoothness          569 non-null    float64\n",
      " 5   mean compactness         569 non-null    float64\n",
      " 6   mean concavity           569 non-null    float64\n",
      " 7   mean concave points      569 non-null    float64\n",
      " 8   mean symmetry            569 non-null    float64\n",
      " 9   mean fractal dimension   569 non-null    float64\n",
      " 10  radius error             569 non-null    float64\n",
      " 11  texture error            569 non-null    float64\n",
      " 12  perimeter error          569 non-null    float64\n",
      " 13  area error               569 non-null    float64\n",
      " 14  smoothness error         569 non-null    float64\n",
      " 15  compactness error        569 non-null    float64\n",
      " 16  concavity error          569 non-null    float64\n",
      " 17  concave points error     569 non-null    float64\n",
      " 18  symmetry error           569 non-null    float64\n",
      " 19  fractal dimension error  569 non-null    float64\n",
      " 20  worst radius             569 non-null    float64\n",
      " 21  worst texture            569 non-null    float64\n",
      " 22  worst perimeter          569 non-null    float64\n",
      " 23  worst area               569 non-null    float64\n",
      " 24  worst smoothness         569 non-null    float64\n",
      " 25  worst compactness        569 non-null    float64\n",
      " 26  worst concavity          569 non-null    float64\n",
      " 27  worst concave points     569 non-null    float64\n",
      " 28  worst symmetry           569 non-null    float64\n",
      " 29  worst fractal dimension  569 non-null    float64\n",
      "dtypes: float64(30)\n",
      "memory usage: 133.5 KB\n"
     ]
    }
   ],
   "source": [
    "X.info()\n",
    "# double check the missing value\n",
    "# X.isnull().sum()"
   ]
  },
  {
   "cell_type": "markdown",
   "metadata": {},
   "source": [
    "There are total 30 columns in which all appears to be numeric displayed as float64. The result shows that there is no missing value, checked by both info() and isnull(). This dataset contains 569 entires with 30 variables."
   ]
  },
  {
   "cell_type": "markdown",
   "metadata": {},
   "source": [
    "- Check the statistical summary of numeric features. Do the variables have values close to each other, or is there large differences?\n",
    "- What is the variable that has the largest value?\n",
    "- What is the variable that has the smallest value?"
   ]
  },
  {
   "cell_type": "code",
   "execution_count": 15,
   "metadata": {},
   "outputs": [
    {
     "data": {
      "text/html": [
       "<div>\n",
       "<style scoped>\n",
       "    .dataframe tbody tr th:only-of-type {\n",
       "        vertical-align: middle;\n",
       "    }\n",
       "\n",
       "    .dataframe tbody tr th {\n",
       "        vertical-align: top;\n",
       "    }\n",
       "\n",
       "    .dataframe thead th {\n",
       "        text-align: right;\n",
       "    }\n",
       "</style>\n",
       "<table border=\"1\" class=\"dataframe\">\n",
       "  <thead>\n",
       "    <tr style=\"text-align: right;\">\n",
       "      <th></th>\n",
       "      <th>mean radius</th>\n",
       "      <th>mean texture</th>\n",
       "      <th>mean perimeter</th>\n",
       "      <th>mean area</th>\n",
       "      <th>mean smoothness</th>\n",
       "      <th>mean compactness</th>\n",
       "      <th>mean concavity</th>\n",
       "      <th>mean concave points</th>\n",
       "      <th>mean symmetry</th>\n",
       "      <th>mean fractal dimension</th>\n",
       "      <th>radius error</th>\n",
       "      <th>texture error</th>\n",
       "      <th>perimeter error</th>\n",
       "      <th>area error</th>\n",
       "      <th>smoothness error</th>\n",
       "      <th>compactness error</th>\n",
       "      <th>concavity error</th>\n",
       "      <th>concave points error</th>\n",
       "      <th>symmetry error</th>\n",
       "      <th>fractal dimension error</th>\n",
       "      <th>worst radius</th>\n",
       "      <th>worst texture</th>\n",
       "      <th>worst perimeter</th>\n",
       "      <th>worst area</th>\n",
       "      <th>worst smoothness</th>\n",
       "      <th>worst compactness</th>\n",
       "      <th>worst concavity</th>\n",
       "      <th>worst concave points</th>\n",
       "      <th>worst symmetry</th>\n",
       "      <th>worst fractal dimension</th>\n",
       "    </tr>\n",
       "  </thead>\n",
       "  <tbody>\n",
       "    <tr>\n",
       "      <th>count</th>\n",
       "      <td>569.000000</td>\n",
       "      <td>569.000000</td>\n",
       "      <td>569.000000</td>\n",
       "      <td>569.000000</td>\n",
       "      <td>569.000000</td>\n",
       "      <td>569.000000</td>\n",
       "      <td>569.000000</td>\n",
       "      <td>569.000000</td>\n",
       "      <td>569.000000</td>\n",
       "      <td>569.000000</td>\n",
       "      <td>569.000000</td>\n",
       "      <td>569.000000</td>\n",
       "      <td>569.000000</td>\n",
       "      <td>569.000000</td>\n",
       "      <td>569.000000</td>\n",
       "      <td>569.000000</td>\n",
       "      <td>569.000000</td>\n",
       "      <td>569.000000</td>\n",
       "      <td>569.000000</td>\n",
       "      <td>569.000000</td>\n",
       "      <td>569.000000</td>\n",
       "      <td>569.000000</td>\n",
       "      <td>569.000000</td>\n",
       "      <td>569.000000</td>\n",
       "      <td>569.000000</td>\n",
       "      <td>569.000000</td>\n",
       "      <td>569.000000</td>\n",
       "      <td>569.000000</td>\n",
       "      <td>569.000000</td>\n",
       "      <td>569.000000</td>\n",
       "    </tr>\n",
       "    <tr>\n",
       "      <th>mean</th>\n",
       "      <td>14.127292</td>\n",
       "      <td>19.289649</td>\n",
       "      <td>91.969033</td>\n",
       "      <td>654.889104</td>\n",
       "      <td>0.096360</td>\n",
       "      <td>0.104341</td>\n",
       "      <td>0.088799</td>\n",
       "      <td>0.048919</td>\n",
       "      <td>0.181162</td>\n",
       "      <td>0.062798</td>\n",
       "      <td>0.405172</td>\n",
       "      <td>1.216853</td>\n",
       "      <td>2.866059</td>\n",
       "      <td>40.337079</td>\n",
       "      <td>0.007041</td>\n",
       "      <td>0.025478</td>\n",
       "      <td>0.031894</td>\n",
       "      <td>0.011796</td>\n",
       "      <td>0.020542</td>\n",
       "      <td>0.003795</td>\n",
       "      <td>16.269190</td>\n",
       "      <td>25.677223</td>\n",
       "      <td>107.261213</td>\n",
       "      <td>880.583128</td>\n",
       "      <td>0.132369</td>\n",
       "      <td>0.254265</td>\n",
       "      <td>0.272188</td>\n",
       "      <td>0.114606</td>\n",
       "      <td>0.290076</td>\n",
       "      <td>0.083946</td>\n",
       "    </tr>\n",
       "    <tr>\n",
       "      <th>std</th>\n",
       "      <td>3.524049</td>\n",
       "      <td>4.301036</td>\n",
       "      <td>24.298981</td>\n",
       "      <td>351.914129</td>\n",
       "      <td>0.014064</td>\n",
       "      <td>0.052813</td>\n",
       "      <td>0.079720</td>\n",
       "      <td>0.038803</td>\n",
       "      <td>0.027414</td>\n",
       "      <td>0.007060</td>\n",
       "      <td>0.277313</td>\n",
       "      <td>0.551648</td>\n",
       "      <td>2.021855</td>\n",
       "      <td>45.491006</td>\n",
       "      <td>0.003003</td>\n",
       "      <td>0.017908</td>\n",
       "      <td>0.030186</td>\n",
       "      <td>0.006170</td>\n",
       "      <td>0.008266</td>\n",
       "      <td>0.002646</td>\n",
       "      <td>4.833242</td>\n",
       "      <td>6.146258</td>\n",
       "      <td>33.602542</td>\n",
       "      <td>569.356993</td>\n",
       "      <td>0.022832</td>\n",
       "      <td>0.157336</td>\n",
       "      <td>0.208624</td>\n",
       "      <td>0.065732</td>\n",
       "      <td>0.061867</td>\n",
       "      <td>0.018061</td>\n",
       "    </tr>\n",
       "    <tr>\n",
       "      <th>min</th>\n",
       "      <td>6.981000</td>\n",
       "      <td>9.710000</td>\n",
       "      <td>43.790000</td>\n",
       "      <td>143.500000</td>\n",
       "      <td>0.052630</td>\n",
       "      <td>0.019380</td>\n",
       "      <td>0.000000</td>\n",
       "      <td>0.000000</td>\n",
       "      <td>0.106000</td>\n",
       "      <td>0.049960</td>\n",
       "      <td>0.111500</td>\n",
       "      <td>0.360200</td>\n",
       "      <td>0.757000</td>\n",
       "      <td>6.802000</td>\n",
       "      <td>0.001713</td>\n",
       "      <td>0.002252</td>\n",
       "      <td>0.000000</td>\n",
       "      <td>0.000000</td>\n",
       "      <td>0.007882</td>\n",
       "      <td>0.000895</td>\n",
       "      <td>7.930000</td>\n",
       "      <td>12.020000</td>\n",
       "      <td>50.410000</td>\n",
       "      <td>185.200000</td>\n",
       "      <td>0.071170</td>\n",
       "      <td>0.027290</td>\n",
       "      <td>0.000000</td>\n",
       "      <td>0.000000</td>\n",
       "      <td>0.156500</td>\n",
       "      <td>0.055040</td>\n",
       "    </tr>\n",
       "    <tr>\n",
       "      <th>25%</th>\n",
       "      <td>11.700000</td>\n",
       "      <td>16.170000</td>\n",
       "      <td>75.170000</td>\n",
       "      <td>420.300000</td>\n",
       "      <td>0.086370</td>\n",
       "      <td>0.064920</td>\n",
       "      <td>0.029560</td>\n",
       "      <td>0.020310</td>\n",
       "      <td>0.161900</td>\n",
       "      <td>0.057700</td>\n",
       "      <td>0.232400</td>\n",
       "      <td>0.833900</td>\n",
       "      <td>1.606000</td>\n",
       "      <td>17.850000</td>\n",
       "      <td>0.005169</td>\n",
       "      <td>0.013080</td>\n",
       "      <td>0.015090</td>\n",
       "      <td>0.007638</td>\n",
       "      <td>0.015160</td>\n",
       "      <td>0.002248</td>\n",
       "      <td>13.010000</td>\n",
       "      <td>21.080000</td>\n",
       "      <td>84.110000</td>\n",
       "      <td>515.300000</td>\n",
       "      <td>0.116600</td>\n",
       "      <td>0.147200</td>\n",
       "      <td>0.114500</td>\n",
       "      <td>0.064930</td>\n",
       "      <td>0.250400</td>\n",
       "      <td>0.071460</td>\n",
       "    </tr>\n",
       "    <tr>\n",
       "      <th>50%</th>\n",
       "      <td>13.370000</td>\n",
       "      <td>18.840000</td>\n",
       "      <td>86.240000</td>\n",
       "      <td>551.100000</td>\n",
       "      <td>0.095870</td>\n",
       "      <td>0.092630</td>\n",
       "      <td>0.061540</td>\n",
       "      <td>0.033500</td>\n",
       "      <td>0.179200</td>\n",
       "      <td>0.061540</td>\n",
       "      <td>0.324200</td>\n",
       "      <td>1.108000</td>\n",
       "      <td>2.287000</td>\n",
       "      <td>24.530000</td>\n",
       "      <td>0.006380</td>\n",
       "      <td>0.020450</td>\n",
       "      <td>0.025890</td>\n",
       "      <td>0.010930</td>\n",
       "      <td>0.018730</td>\n",
       "      <td>0.003187</td>\n",
       "      <td>14.970000</td>\n",
       "      <td>25.410000</td>\n",
       "      <td>97.660000</td>\n",
       "      <td>686.500000</td>\n",
       "      <td>0.131300</td>\n",
       "      <td>0.211900</td>\n",
       "      <td>0.226700</td>\n",
       "      <td>0.099930</td>\n",
       "      <td>0.282200</td>\n",
       "      <td>0.080040</td>\n",
       "    </tr>\n",
       "    <tr>\n",
       "      <th>75%</th>\n",
       "      <td>15.780000</td>\n",
       "      <td>21.800000</td>\n",
       "      <td>104.100000</td>\n",
       "      <td>782.700000</td>\n",
       "      <td>0.105300</td>\n",
       "      <td>0.130400</td>\n",
       "      <td>0.130700</td>\n",
       "      <td>0.074000</td>\n",
       "      <td>0.195700</td>\n",
       "      <td>0.066120</td>\n",
       "      <td>0.478900</td>\n",
       "      <td>1.474000</td>\n",
       "      <td>3.357000</td>\n",
       "      <td>45.190000</td>\n",
       "      <td>0.008146</td>\n",
       "      <td>0.032450</td>\n",
       "      <td>0.042050</td>\n",
       "      <td>0.014710</td>\n",
       "      <td>0.023480</td>\n",
       "      <td>0.004558</td>\n",
       "      <td>18.790000</td>\n",
       "      <td>29.720000</td>\n",
       "      <td>125.400000</td>\n",
       "      <td>1084.000000</td>\n",
       "      <td>0.146000</td>\n",
       "      <td>0.339100</td>\n",
       "      <td>0.382900</td>\n",
       "      <td>0.161400</td>\n",
       "      <td>0.317900</td>\n",
       "      <td>0.092080</td>\n",
       "    </tr>\n",
       "    <tr>\n",
       "      <th>max</th>\n",
       "      <td>28.110000</td>\n",
       "      <td>39.280000</td>\n",
       "      <td>188.500000</td>\n",
       "      <td>2501.000000</td>\n",
       "      <td>0.163400</td>\n",
       "      <td>0.345400</td>\n",
       "      <td>0.426800</td>\n",
       "      <td>0.201200</td>\n",
       "      <td>0.304000</td>\n",
       "      <td>0.097440</td>\n",
       "      <td>2.873000</td>\n",
       "      <td>4.885000</td>\n",
       "      <td>21.980000</td>\n",
       "      <td>542.200000</td>\n",
       "      <td>0.031130</td>\n",
       "      <td>0.135400</td>\n",
       "      <td>0.396000</td>\n",
       "      <td>0.052790</td>\n",
       "      <td>0.078950</td>\n",
       "      <td>0.029840</td>\n",
       "      <td>36.040000</td>\n",
       "      <td>49.540000</td>\n",
       "      <td>251.200000</td>\n",
       "      <td>4254.000000</td>\n",
       "      <td>0.222600</td>\n",
       "      <td>1.058000</td>\n",
       "      <td>1.252000</td>\n",
       "      <td>0.291000</td>\n",
       "      <td>0.663800</td>\n",
       "      <td>0.207500</td>\n",
       "    </tr>\n",
       "  </tbody>\n",
       "</table>\n",
       "</div>"
      ],
      "text/plain": [
       "       mean radius  mean texture  mean perimeter    mean area  \\\n",
       "count   569.000000    569.000000      569.000000   569.000000   \n",
       "mean     14.127292     19.289649       91.969033   654.889104   \n",
       "std       3.524049      4.301036       24.298981   351.914129   \n",
       "min       6.981000      9.710000       43.790000   143.500000   \n",
       "25%      11.700000     16.170000       75.170000   420.300000   \n",
       "50%      13.370000     18.840000       86.240000   551.100000   \n",
       "75%      15.780000     21.800000      104.100000   782.700000   \n",
       "max      28.110000     39.280000      188.500000  2501.000000   \n",
       "\n",
       "       mean smoothness  mean compactness  mean concavity  mean concave points  \\\n",
       "count       569.000000        569.000000      569.000000           569.000000   \n",
       "mean          0.096360          0.104341        0.088799             0.048919   \n",
       "std           0.014064          0.052813        0.079720             0.038803   \n",
       "min           0.052630          0.019380        0.000000             0.000000   \n",
       "25%           0.086370          0.064920        0.029560             0.020310   \n",
       "50%           0.095870          0.092630        0.061540             0.033500   \n",
       "75%           0.105300          0.130400        0.130700             0.074000   \n",
       "max           0.163400          0.345400        0.426800             0.201200   \n",
       "\n",
       "       mean symmetry  mean fractal dimension  radius error  texture error  \\\n",
       "count     569.000000              569.000000    569.000000     569.000000   \n",
       "mean        0.181162                0.062798      0.405172       1.216853   \n",
       "std         0.027414                0.007060      0.277313       0.551648   \n",
       "min         0.106000                0.049960      0.111500       0.360200   \n",
       "25%         0.161900                0.057700      0.232400       0.833900   \n",
       "50%         0.179200                0.061540      0.324200       1.108000   \n",
       "75%         0.195700                0.066120      0.478900       1.474000   \n",
       "max         0.304000                0.097440      2.873000       4.885000   \n",
       "\n",
       "       perimeter error  area error  smoothness error  compactness error  \\\n",
       "count       569.000000  569.000000        569.000000         569.000000   \n",
       "mean          2.866059   40.337079          0.007041           0.025478   \n",
       "std           2.021855   45.491006          0.003003           0.017908   \n",
       "min           0.757000    6.802000          0.001713           0.002252   \n",
       "25%           1.606000   17.850000          0.005169           0.013080   \n",
       "50%           2.287000   24.530000          0.006380           0.020450   \n",
       "75%           3.357000   45.190000          0.008146           0.032450   \n",
       "max          21.980000  542.200000          0.031130           0.135400   \n",
       "\n",
       "       concavity error  concave points error  symmetry error  \\\n",
       "count       569.000000            569.000000      569.000000   \n",
       "mean          0.031894              0.011796        0.020542   \n",
       "std           0.030186              0.006170        0.008266   \n",
       "min           0.000000              0.000000        0.007882   \n",
       "25%           0.015090              0.007638        0.015160   \n",
       "50%           0.025890              0.010930        0.018730   \n",
       "75%           0.042050              0.014710        0.023480   \n",
       "max           0.396000              0.052790        0.078950   \n",
       "\n",
       "       fractal dimension error  worst radius  worst texture  worst perimeter  \\\n",
       "count               569.000000    569.000000     569.000000       569.000000   \n",
       "mean                  0.003795     16.269190      25.677223       107.261213   \n",
       "std                   0.002646      4.833242       6.146258        33.602542   \n",
       "min                   0.000895      7.930000      12.020000        50.410000   \n",
       "25%                   0.002248     13.010000      21.080000        84.110000   \n",
       "50%                   0.003187     14.970000      25.410000        97.660000   \n",
       "75%                   0.004558     18.790000      29.720000       125.400000   \n",
       "max                   0.029840     36.040000      49.540000       251.200000   \n",
       "\n",
       "        worst area  worst smoothness  worst compactness  worst concavity  \\\n",
       "count   569.000000        569.000000         569.000000       569.000000   \n",
       "mean    880.583128          0.132369           0.254265         0.272188   \n",
       "std     569.356993          0.022832           0.157336         0.208624   \n",
       "min     185.200000          0.071170           0.027290         0.000000   \n",
       "25%     515.300000          0.116600           0.147200         0.114500   \n",
       "50%     686.500000          0.131300           0.211900         0.226700   \n",
       "75%    1084.000000          0.146000           0.339100         0.382900   \n",
       "max    4254.000000          0.222600           1.058000         1.252000   \n",
       "\n",
       "       worst concave points  worst symmetry  worst fractal dimension  \n",
       "count            569.000000      569.000000               569.000000  \n",
       "mean               0.114606        0.290076                 0.083946  \n",
       "std                0.065732        0.061867                 0.018061  \n",
       "min                0.000000        0.156500                 0.055040  \n",
       "25%                0.064930        0.250400                 0.071460  \n",
       "50%                0.099930        0.282200                 0.080040  \n",
       "75%                0.161400        0.317900                 0.092080  \n",
       "max                0.291000        0.663800                 0.207500  "
      ]
     },
     "execution_count": 15,
     "metadata": {},
     "output_type": "execute_result"
    }
   ],
   "source": [
    "# Statistical summary of the numeric features\n",
    "X.describe()"
   ]
  },
  {
   "cell_type": "code",
   "execution_count": 16,
   "metadata": {},
   "outputs": [
    {
     "name": "stdout",
     "output_type": "stream",
     "text": [
      "Max value:  4254.0\n",
      "Min Value:  0.0\n"
     ]
    },
    {
     "data": {
      "image/png": "[encoded data removed]",
      "text/plain": [
       "<Figure size 432x288 with 1 Axes>"
      ]
     },
     "metadata": {
      "needs_background": "light"
     },
     "output_type": "display_data"
    }
   ],
   "source": [
    "# Printing boxplot\n",
    "sns.boxplot(x=X)\n",
    "# Finding the max and min value in dataset\n",
    "print(\"Max value: \",X.max().max())\n",
    "print(\"Min Value: \",X.min().min())"
   ]
  },
  {
   "cell_type": "markdown",
   "metadata": {},
   "source": [
    "The numeric values ranges from 0 to 4,254 in which different attributes introduces different ranges. There are 21 attributes contain value between 0 - 1 which accounted for 70%. There are 6 attribures mostly has value less than 100 and the rest comsists of value more than 100. It appears that 4,254 is the largest value in this dataset, this value belongs to the \"worst area\" variable. It also has the highest mean. Additionally, it also displays on the plot as the outlier. On the other hand, there are 6 variables that have 0 as the smallest value, those are mean concavity, mean concave points, concavity error, concave points error, worst concavity and worst concave points. Both groups of concavity and concave points suggest the smallest value in this dataset."
   ]
  },
  {
   "cell_type": "markdown",
   "metadata": {},
   "source": [
    "These features are all engineered from images. I suspect there is some variables with large correlation. Are there largely correlated variables? Why do you think they are largely correlated? Comment on a few.\n",
    "- Calculate correlation.\n",
    "- Create a correlation heatmap.\n",
    "- Comment on largely correlated variables."
   ]
  },
  {
   "cell_type": "code",
   "execution_count": 17,
   "metadata": {},
   "outputs": [
    {
     "data": {
      "image/png": "[encoded data removed]",
      "text/plain": [
       "<Figure size 1440x1440 with 2 Axes>"
      ]
     },
     "metadata": {
      "needs_background": "light"
     },
     "output_type": "display_data"
    }
   ],
   "source": [
    "f, ax = plt.subplots(figsize=(20, 20))\n",
    "corr = X.corr()\n",
    "hm = sns.heatmap(round(corr,2), annot=True, ax=ax, cmap=\"coolwarm\")\n",
    "f.subplots_adjust(top=0.9)\n",
    "t= f.suptitle('Cancer Attributes Correlation Heatmap', fontsize=20)"
   ]
  },
  {
   "cell_type": "markdown",
   "metadata": {},
   "source": [
    "There are largely correlated variables with reference to value >= 0.9 such as a group of radius with a group of  perimeter and a group of area. When cancer is considered by a circle, radius is supposed to define the size of perimeter and area, that results in this high corrrelation. In addition, there are some other high correlations, for example, the mean concave points and the mean concavity. It could be assumed that area with number of concaves relates to the severity of concave portions of the contour."
   ]
  },
  {
   "cell_type": "markdown",
   "metadata": {},
   "source": [
    "**Train - Test split** \n",
    "- Use sklearn's `tran_test_split()` function to create the split.\n",
    "- Use `random_state = 55` to create consistent and repeatable train-test splits.\n",
    "\n",
    "- What is the proportion of cancer classes in train and test sets after splitting? Are they equal or very close to each other?\n",
    "- What is the importance of stratified sampling?"
   ]
  },
  {
   "cell_type": "code",
   "execution_count": 18,
   "metadata": {
    "colab": {},
    "colab_type": "code",
    "id": "51JqRqv2JnOY"
   },
   "outputs": [],
   "source": [
    "# split the datasets into training and test data\n",
    "X_train, X_test, y_train, y_test = train_test_split(X, y, stratify=y, random_state = 55, test_size= 0.25)"
   ]
  },
  {
   "cell_type": "code",
   "execution_count": 19,
   "metadata": {},
   "outputs": [
    {
     "name": "stdout",
     "output_type": "stream",
     "text": [
      "Total cases for train set: 426\n",
      "0    267\n",
      "1    159\n",
      "Name: target, dtype: int64\n",
      "Portion of Malignant in train set =  0.37\n",
      "--------------------------------------------------------\n",
      "Total cases for test set: 143\n",
      "0    90\n",
      "1    53\n",
      "Name: target, dtype: int64\n",
      "Portion of Malignant in test set =  0.37\n"
     ]
    }
   ],
   "source": [
    "print(\"Total cases for train set:\", y_train.value_counts().sum())\n",
    "print(y_train.value_counts())\n",
    "print(\"Portion of Malignant in train set = \", round(y_train.value_counts()[1]/y_train.value_counts().sum(), 2))\n",
    "print(\"--------------------------------------------------------\")\n",
    "print(\"Total cases for test set:\", y_test.value_counts().sum())\n",
    "print(y_test.value_counts())\n",
    "print(\"Portion of Malignant in test set = \", round(y_test.value_counts()[1]/y_test.value_counts().sum(),2))"
   ]
  },
  {
   "cell_type": "markdown",
   "metadata": {},
   "source": [
    "The portion of cancer classes or malignant type of both train and test sets after spliting is 37% which is equal to each other as shown above.\n",
    "\n",
    "The importance of stratified sampling is that the test set is created with a population that best represents the entire set and it is supposed to eradicate sampling bias in a test set as well."
   ]
  },
  {
   "cell_type": "markdown",
   "metadata": {},
   "source": [
    "- Initiate the logistic regression classifier from the sklearn library as shown below.\n",
    "- Fit the model\n",
    "- Make predictions\n",
    "- Calculate accuracy score. What are the **training** and **testing** accuracies of the model?\n",
    "- Create confusion matrix\n",
    "- Either calculate using the confusion matrix, or use the methods in `metrics` to get the following metrics on the testing set:\n",
    "     - Recall (Sensitivity)\n",
    "     - Specificity\n",
    "     - Precision\n",
    "     - False Positive Rate\n",
    "     - F1 Score"
   ]
  },
  {
   "cell_type": "code",
   "execution_count": 20,
   "metadata": {},
   "outputs": [],
   "source": [
    "from sklearn.linear_model import LogisticRegression"
   ]
  },
  {
   "cell_type": "code",
   "execution_count": 21,
   "metadata": {},
   "outputs": [],
   "source": [
    "# Initiating the logistic regression\n",
    "clf = LogisticRegression(max_iter = 10000, solver='lbfgs', penalty='l2', C=0.1)"
   ]
  },
  {
   "cell_type": "code",
   "execution_count": 22,
   "metadata": {},
   "outputs": [
    {
     "data": {
      "text/plain": [
       "LogisticRegression(C=0.1, class_weight=None, dual=False, fit_intercept=True,\n",
       "                   intercept_scaling=1, l1_ratio=None, max_iter=10000,\n",
       "                   multi_class='warn', n_jobs=None, penalty='l2',\n",
       "                   random_state=None, solver='lbfgs', tol=0.0001, verbose=0,\n",
       "                   warm_start=False)"
      ]
     },
     "execution_count": 22,
     "metadata": {},
     "output_type": "execute_result"
    }
   ],
   "source": [
    "# Fitting the model\n",
    "clf.fit(X_train, y_train)"
   ]
  },
  {
   "cell_type": "code",
   "execution_count": 23,
   "metadata": {},
   "outputs": [
    {
     "data": {
      "text/plain": [
       "0.9413145539906104"
      ]
     },
     "execution_count": 23,
     "metadata": {},
     "output_type": "execute_result"
    }
   ],
   "source": [
    "# Make prediction - Train set\n",
    "pred = clf.predict(X_train)\n",
    "# Accuracy Score\n",
    "metrics.accuracy_score(y_true = y_train, y_pred = pred)"
   ]
  },
  {
   "cell_type": "code",
   "execution_count": 24,
   "metadata": {},
   "outputs": [
    {
     "data": {
      "text/plain": [
       "1.0"
      ]
     },
     "execution_count": 24,
     "metadata": {},
     "output_type": "execute_result"
    }
   ],
   "source": [
    "metrics.zero_one_loss(y_train, pred) + metrics.accuracy_score(y_train, pred)"
   ]
  },
  {
   "cell_type": "code",
   "execution_count": 25,
   "metadata": {},
   "outputs": [
    {
     "data": {
      "text/plain": [
       "0.986013986013986"
      ]
     },
     "execution_count": 25,
     "metadata": {},
     "output_type": "execute_result"
    }
   ],
   "source": [
    "# Make prediction - Test set\n",
    "pred = clf.predict(X_test)\n",
    "# Accuracy Score\n",
    "metrics.accuracy_score(y_true = y_test, y_pred = pred)"
   ]
  },
  {
   "cell_type": "code",
   "execution_count": 26,
   "metadata": {},
   "outputs": [
    {
     "data": {
      "text/plain": [
       "1.0"
      ]
     },
     "execution_count": 26,
     "metadata": {},
     "output_type": "execute_result"
    }
   ],
   "source": [
    "metrics.zero_one_loss(y_test, pred) + metrics.accuracy_score(y_test, pred)"
   ]
  },
  {
   "cell_type": "code",
   "execution_count": 27,
   "metadata": {},
   "outputs": [],
   "source": [
    "# Creating confusion matrix\n",
    "# metrics.confusion_matrix(y_test, pred)"
   ]
  },
  {
   "cell_type": "code",
   "execution_count": 28,
   "metadata": {},
   "outputs": [
    {
     "data": {
      "image/png": "[encoded data removed]",
      "text/plain": [
       "<Figure size 432x288 with 1 Axes>"
      ]
     },
     "metadata": {
      "needs_background": "light"
     },
     "output_type": "display_data"
    }
   ],
   "source": [
    "# Creating confusion matrix\n",
    "confusion_matrix =  pd.crosstab(index=y_test, columns=pred, rownames=['Expected'], colnames=['Predicted'])\n",
    "sns.heatmap(confusion_matrix, annot=True, square=False, fmt='', cbar=False)\n",
    "plt.title(\"Confusion Matrix\", fontsize = 15)\n",
    "plt.show()"
   ]
  },
  {
   "cell_type": "code",
   "execution_count": 29,
   "metadata": {},
   "outputs": [
    {
     "name": "stdout",
     "output_type": "stream",
     "text": [
      "              precision    recall  f1-score   support\n",
      "\n",
      "           0       0.99      0.99      0.99        90\n",
      "           1       0.98      0.98      0.98        53\n",
      "\n",
      "    accuracy                           0.99       143\n",
      "   macro avg       0.99      0.99      0.99       143\n",
      "weighted avg       0.99      0.99      0.99       143\n",
      "\n"
     ]
    }
   ],
   "source": [
    "print(metrics.classification_report(y_test, pred))"
   ]
  },
  {
   "cell_type": "markdown",
   "metadata": {},
   "source": [
    "- Initiate the k-nearest neighbours classifier from the sklearn library with n_neighbors=1. Keep the remaining parameters with their default values. (No need to specify anything)\n",
    "- Fit the model\n",
    "- Make predictions\n",
    "- Calculate accuracy score. What are the **training** and **testing** accuracies of the model?\n",
    "- Create confusion matrix\n",
    "- Either calculate using the confusion matrix, or using the methods in `metrics` to get the following metrics on the testing set:\n",
    "     - Recall (Sensitivity)\n",
    "     - Specificity\n",
    "     - Precision\n",
    "     - F1 Score"
   ]
  },
  {
   "cell_type": "code",
   "execution_count": 30,
   "metadata": {},
   "outputs": [],
   "source": [
    "from sklearn.neighbors import KNeighborsClassifier\n",
    "\n",
    "# Initiating the k-nearest neighbours classifier from the sklearn library with n_neighbors=1\n",
    "KNN = KNeighborsClassifier(n_neighbors=1)      "
   ]
  },
  {
   "cell_type": "code",
   "execution_count": 31,
   "metadata": {},
   "outputs": [
    {
     "data": {
      "text/plain": [
       "KNeighborsClassifier(algorithm='auto', leaf_size=30, metric='minkowski',\n",
       "                     metric_params=None, n_jobs=None, n_neighbors=1, p=2,\n",
       "                     weights='uniform')"
      ]
     },
     "execution_count": 31,
     "metadata": {},
     "output_type": "execute_result"
    }
   ],
   "source": [
    "# Fitting the model\n",
    "KNN.fit(X_train, y_train)"
   ]
  },
  {
   "cell_type": "code",
   "execution_count": 32,
   "metadata": {},
   "outputs": [
    {
     "data": {
      "text/plain": [
       "1.0"
      ]
     },
     "execution_count": 32,
     "metadata": {},
     "output_type": "execute_result"
    }
   ],
   "source": [
    "# Make prediction - Train set\n",
    "pred_KNN_train = KNN.predict(X_train)\n",
    "# Accuracy Score\n",
    "metrics.accuracy_score(y_true = y_train, y_pred = pred_KNN_train)"
   ]
  },
  {
   "cell_type": "code",
   "execution_count": 33,
   "metadata": {},
   "outputs": [
    {
     "data": {
      "text/plain": [
       "0.9440559440559441"
      ]
     },
     "execution_count": 33,
     "metadata": {},
     "output_type": "execute_result"
    }
   ],
   "source": [
    "# Make prediction - Test set\n",
    "pred_KNN_test = KNN.predict(X_test)\n",
    "# Accuracy Score\n",
    "metrics.accuracy_score(y_true = y_test, y_pred = pred_KNN_test)"
   ]
  },
  {
   "cell_type": "code",
   "execution_count": 34,
   "metadata": {},
   "outputs": [
    {
     "data": {
      "text/plain": [
       "1.0"
      ]
     },
     "execution_count": 34,
     "metadata": {},
     "output_type": "execute_result"
    }
   ],
   "source": [
    "metrics.zero_one_loss(y_test, pred_KNN_test) + metrics.accuracy_score(y_test, pred_KNN_test)"
   ]
  },
  {
   "cell_type": "code",
   "execution_count": 35,
   "metadata": {},
   "outputs": [
    {
     "data": {
      "image/png": "[encoded data removed]",
      "text/plain": [
       "<Figure size 432x288 with 1 Axes>"
      ]
     },
     "metadata": {
      "needs_background": "light"
     },
     "output_type": "display_data"
    }
   ],
   "source": [
    "# Creating confusion matrix\n",
    "confusion_matrix =  pd.crosstab(index=y_test, columns=pred_KNN_test, rownames=['Expected'], colnames=['Predicted'])\n",
    "sns.heatmap(confusion_matrix, annot=True, square=False, fmt='', cbar=False)\n",
    "plt.title(\"Confusion Matrix\", fontsize = 15)\n",
    "plt.show()"
   ]
  },
  {
   "cell_type": "code",
   "execution_count": 36,
   "metadata": {},
   "outputs": [
    {
     "name": "stdout",
     "output_type": "stream",
     "text": [
      "              precision    recall  f1-score   support\n",
      "\n",
      "           0       0.96      0.96      0.96        90\n",
      "           1       0.92      0.92      0.92        53\n",
      "\n",
      "    accuracy                           0.94       143\n",
      "   macro avg       0.94      0.94      0.94       143\n",
      "weighted avg       0.94      0.94      0.94       143\n",
      "\n"
     ]
    }
   ],
   "source": [
    "print(metrics.classification_report(y_test, pred_KNN_test))"
   ]
  },
  {
   "cell_type": "markdown",
   "metadata": {},
   "source": [
    "- Initiate the Gaussian Naive Bayes classifier from the sklearn library. Keep all parameters with their default values. (No need to specify anything)\n",
    "- Fit the model\n",
    "- Make predictions\n",
    "- Calculate accuracy score. What are the **training** and **testing** accuracies of the model?\n",
    "- Create confusion matrix\n",
    "- Either calculate using the confusion matrix, or using the methods in `metrics` to get the following metrics on the testing set:\n",
    "     - Recall (Sensitivity)\n",
    "     - Specificity\n",
    "     - Precision\n",
    "     - F1 Score"
   ]
  },
  {
   "cell_type": "code",
   "execution_count": 37,
   "metadata": {},
   "outputs": [],
   "source": [
    "# Importing the Gaussian Naive Bayes classifier from the sklearn library\n",
    "from sklearn.naive_bayes import GaussianNB\n",
    "\n",
    "# Create a Gaussian Classifier\n",
    "GNB = GaussianNB()"
   ]
  },
  {
   "cell_type": "code",
   "execution_count": 38,
   "metadata": {},
   "outputs": [
    {
     "data": {
      "text/plain": [
       "GaussianNB(priors=None, var_smoothing=1e-09)"
      ]
     },
     "execution_count": 38,
     "metadata": {},
     "output_type": "execute_result"
    }
   ],
   "source": [
    "# Fitting the model\n",
    "GNB.fit(X_train, y_train)"
   ]
  },
  {
   "cell_type": "code",
   "execution_count": 39,
   "metadata": {},
   "outputs": [
    {
     "data": {
      "text/plain": [
       "0.9366197183098591"
      ]
     },
     "execution_count": 39,
     "metadata": {},
     "output_type": "execute_result"
    }
   ],
   "source": [
    "# Make prediction - Train set\n",
    "pred_GNB_train = GNB.predict(X_train)\n",
    "# Accuracy Score\n",
    "metrics.accuracy_score(y_true = y_train, y_pred = pred_GNB_train)"
   ]
  },
  {
   "cell_type": "code",
   "execution_count": 40,
   "metadata": {},
   "outputs": [
    {
     "data": {
      "text/plain": [
       "1.0"
      ]
     },
     "execution_count": 40,
     "metadata": {},
     "output_type": "execute_result"
    }
   ],
   "source": [
    "metrics.zero_one_loss(y_train, pred_GNB_train) + metrics.accuracy_score(y_train, pred_GNB_train)"
   ]
  },
  {
   "cell_type": "code",
   "execution_count": 41,
   "metadata": {},
   "outputs": [
    {
     "data": {
      "text/plain": [
       "0.958041958041958"
      ]
     },
     "execution_count": 41,
     "metadata": {},
     "output_type": "execute_result"
    }
   ],
   "source": [
    "# Make prediction - Test set\n",
    "pred_GNB_test = GNB.predict(X_test)\n",
    "# Accuracy Score\n",
    "metrics.accuracy_score(y_true = y_test, y_pred = pred_GNB_test)"
   ]
  },
  {
   "cell_type": "code",
   "execution_count": 42,
   "metadata": {},
   "outputs": [
    {
     "data": {
      "text/plain": [
       "1.0"
      ]
     },
     "execution_count": 42,
     "metadata": {},
     "output_type": "execute_result"
    }
   ],
   "source": [
    "metrics.zero_one_loss(y_test, pred_GNB_test) + metrics.accuracy_score(y_test, pred_GNB_test)"
   ]
  },
  {
   "cell_type": "code",
   "execution_count": 43,
   "metadata": {},
   "outputs": [
    {
     "data": {
      "image/png": "[encoded data removed]",
      "text/plain": [
       "<Figure size 432x288 with 1 Axes>"
      ]
     },
     "metadata": {
      "needs_background": "light"
     },
     "output_type": "display_data"
    }
   ],
   "source": [
    "# Creating confusion matrix\n",
    "confusion_matrix =  pd.crosstab(index=y_test, columns=pred_GNB_test, rownames=['Expected'], colnames=['Predicted'])\n",
    "sns.heatmap(confusion_matrix, annot=True, square=False, fmt='', cbar=False)\n",
    "plt.title(\"Confusion Matrix\", fontsize = 15)\n",
    "plt.show()"
   ]
  },
  {
   "cell_type": "code",
   "execution_count": 44,
   "metadata": {},
   "outputs": [
    {
     "name": "stdout",
     "output_type": "stream",
     "text": [
      "              precision    recall  f1-score   support\n",
      "\n",
      "           0       0.95      0.99      0.97        90\n",
      "           1       0.98      0.91      0.94        53\n",
      "\n",
      "    accuracy                           0.96       143\n",
      "   macro avg       0.96      0.95      0.95       143\n",
      "weighted avg       0.96      0.96      0.96       143\n",
      "\n"
     ]
    }
   ],
   "source": [
    "print(metrics.classification_report(y_test, pred_GNB_test))"
   ]
  },
  {
   "cell_type": "markdown",
   "metadata": {},
   "source": [
    "In logistic regression keeping the other parameters constant try these values for C: `C_list = [0.0001, 0.0005, 0.001, 0.005, 0.01, 0.05, 0.1, 0.5, 1, 2, 10, 50, 100, 200, 500, 1000, 2000, 5000, 10000]`.  \n",
    "C is the inverse of the regularization parameter $\\lambda$. As C increases, the penalty decreases.\n",
    "- Create a loop and fit the models using each C value. \n",
    "- Make predictions\n",
    "- Calculate accuracy scores for **training** and **testing** datasets. Create a list of accuracy results for train and test accuracies. Show these lists.\n",
    "- Plot the validation curve based on each C value and the corresponding the train and test accuracies. \n",
    "> Create this curve yourself. Do not use sklearn built-in function."
   ]
  },
  {
   "cell_type": "code",
   "execution_count": 45,
   "metadata": {},
   "outputs": [],
   "source": [
    "C_list = [0.0001, 0.0005, 0.001, 0.005, 0.01, 0.05, 0.1, 0.5, 1, 2, 10, 50, 100, 200, 500, 1000, 2000, 5000, 10000]\n",
    "accuracy_train = []\n",
    "accuracy_test = []\n",
    "for C in C_list:\n",
    "    clf = LogisticRegression(max_iter = 10000, solver='lbfgs', penalty='l2', C=C)\n",
    "    clf.fit(X_train, y_train)\n",
    "    # Make prediction - Train set\n",
    "    pred_train = clf.predict(X_train)\n",
    "    # Accuracy Score\n",
    "    accuracy_train.append(metrics.accuracy_score(y_true = y_train, y_pred = pred_train))\n",
    "    # Make prediction - Test set\n",
    "    pred_test = clf.predict(X_test)\n",
    "    # Accuracy Score\n",
    "    accuracy_test.append(metrics.accuracy_score(y_true = y_test, y_pred = pred_test))"
   ]
  },
  {
   "cell_type": "code",
   "execution_count": 46,
   "metadata": {},
   "outputs": [
    {
     "name": "stdout",
     "output_type": "stream",
     "text": [
      "A list of accuracy results for train set\n",
      "0.9248826291079812\n",
      "0.931924882629108\n",
      "0.9413145539906104\n",
      "0.9342723004694836\n",
      "0.9389671361502347\n",
      "0.9413145539906104\n",
      "0.9413145539906104\n",
      "0.9460093896713615\n",
      "0.9460093896713615\n",
      "0.9507042253521126\n",
      "0.9624413145539906\n",
      "0.971830985915493\n",
      "0.9812206572769953\n",
      "0.9859154929577465\n",
      "0.9882629107981221\n",
      "0.9882629107981221\n",
      "0.9882629107981221\n",
      "0.9882629107981221\n",
      "0.9906103286384976\n"
     ]
    }
   ],
   "source": [
    "print(\"A list of accuracy results for train set\")\n",
    "for acc in accuracy_train:\n",
    "    print(acc)"
   ]
  },
  {
   "cell_type": "code",
   "execution_count": 47,
   "metadata": {},
   "outputs": [
    {
     "name": "stdout",
     "output_type": "stream",
     "text": [
      "A list of accuracy results for test set\n",
      "0.9370629370629371\n",
      "0.958041958041958\n",
      "0.9790209790209791\n",
      "0.972027972027972\n",
      "0.972027972027972\n",
      "0.9790209790209791\n",
      "0.986013986013986\n",
      "0.993006993006993\n",
      "0.993006993006993\n",
      "0.993006993006993\n",
      "0.993006993006993\n",
      "0.986013986013986\n",
      "0.993006993006993\n",
      "0.986013986013986\n",
      "0.986013986013986\n",
      "0.986013986013986\n",
      "0.9790209790209791\n",
      "0.9790209790209791\n",
      "0.972027972027972\n"
     ]
    }
   ],
   "source": [
    "print(\"A list of accuracy results for test set\")\n",
    "for acc in accuracy_test:\n",
    "    print(acc)"
   ]
  },
  {
   "cell_type": "code",
   "execution_count": 48,
   "metadata": {},
   "outputs": [
    {
     "data": {
      "image/png": "[encoded data removed]",
      "text/plain": [
       "<Figure size 432x288 with 1 Axes>"
      ]
     },
     "metadata": {
      "needs_background": "light"
     },
     "output_type": "display_data"
    }
   ],
   "source": [
    "plt.plot(accuracy_train, label = 'train')\n",
    "plt.plot(accuracy_test, label = 'test')\n",
    "plt.xticks(np.arange(len(C_list)), C_list, rotation=45)\n",
    "plt.xlabel('C')\n",
    "plt.ylabel('Accuracy')\n",
    "plt.legend()\n",
    "plt.show()"
   ]
  },
  {
   "cell_type": "markdown",
   "metadata": {},
   "source": [
    "In K Nearest Neighbors keeping the other parameters constant try these values for K (n_neighbors): `K_list = [1,3,5,7,9,15,19,25,29,35,39,45,49,99]`.  \n",
    "- Create a loop and fit the models using each K value. \n",
    "- Make predictions\n",
    "- Calculate accuracy scores for **training** and **testing** datasets. Create a list of accuracy results for train and test accuracies. Show these lists.\n",
    "- Create the validation curve based on each K value and the corresponding the train and test accuracies. \n",
    "> Create this curve yourself. Do not use sklearn built-in function."
   ]
  },
  {
   "cell_type": "code",
   "execution_count": 49,
   "metadata": {},
   "outputs": [],
   "source": [
    "K_list = [1,3,5,7,9,15,19,25,29,35,39,45,49,99]\n",
    "accuracy_train = []\n",
    "accuracy_test = []\n",
    "for K in K_list:\n",
    "    clf = KNeighborsClassifier(n_neighbors=K)\n",
    "    clf.fit(X_train, y_train)\n",
    "    # Make prediction - Train set\n",
    "    pred_train = clf.predict(X_train)\n",
    "    # Accuracy Score\n",
    "    accuracy_train.append(metrics.accuracy_score(y_true = y_train, y_pred = pred_train))\n",
    "    # Make prediction - Test set\n",
    "    pred_test = clf.predict(X_test)\n",
    "    # Accuracy Score\n",
    "    accuracy_test.append(metrics.accuracy_score(y_true = y_test, y_pred = pred_test))"
   ]
  },
  {
   "cell_type": "code",
   "execution_count": 50,
   "metadata": {},
   "outputs": [
    {
     "name": "stdout",
     "output_type": "stream",
     "text": [
      "A list of accuracy results for train set\n",
      "1.0\n",
      "0.9483568075117371\n",
      "0.9460093896713615\n",
      "0.9389671361502347\n",
      "0.931924882629108\n",
      "0.9248826291079812\n",
      "0.9272300469483568\n",
      "0.9248826291079812\n",
      "0.9225352112676056\n",
      "0.9225352112676056\n",
      "0.9225352112676056\n",
      "0.9131455399061033\n",
      "0.9084507042253521\n",
      "0.9014084507042254\n"
     ]
    }
   ],
   "source": [
    "print(\"A list of accuracy results for train set\")\n",
    "for acc in accuracy_train:\n",
    "    print(acc)"
   ]
  },
  {
   "cell_type": "code",
   "execution_count": 51,
   "metadata": {},
   "outputs": [
    {
     "name": "stdout",
     "output_type": "stream",
     "text": [
      "A list of accuracy results for test set\n",
      "0.9440559440559441\n",
      "0.965034965034965\n",
      "0.9370629370629371\n",
      "0.9440559440559441\n",
      "0.9370629370629371\n",
      "0.9440559440559441\n",
      "0.9440559440559441\n",
      "0.9370629370629371\n",
      "0.9370629370629371\n",
      "0.9370629370629371\n",
      "0.9300699300699301\n",
      "0.9230769230769231\n",
      "0.9300699300699301\n",
      "0.9090909090909091\n"
     ]
    }
   ],
   "source": [
    "print(\"A list of accuracy results for test set\")\n",
    "for acc in accuracy_test:\n",
    "    print(acc)"
   ]
  },
  {
   "cell_type": "code",
   "execution_count": 52,
   "metadata": {},
   "outputs": [
    {
     "data": {
      "image/png": "[encoded data removed]",
      "text/plain": [
       "<Figure size 432x288 with 1 Axes>"
      ]
     },
     "metadata": {
      "needs_background": "light"
     },
     "output_type": "display_data"
    }
   ],
   "source": [
    "plt.plot(accuracy_train, label = 'train')\n",
    "plt.plot(accuracy_test, label = 'test')\n",
    "plt.xticks(np.arange(len(K_list)), K_list, rotation=45)\n",
    "plt.xlabel('K')\n",
    "plt.ylabel('Accuracy')\n",
    "plt.legend()\n",
    "plt.show()"
   ]
  },
  {
   "cell_type": "markdown",
   "metadata": {},
   "source": [
    "- The validation curve for logistic regression seems a bit weird. That might have to do with the fact that the data is not normalized.\n",
    "- Apply standardization to the data and re-do Quesion 9 and plot the validation curve for logistic regression models with same parameter range for C. \n",
    "- Plot the validation curve. What do you see? \n",
    "- Which value would you choose for C in logistic regression? Why?"
   ]
  },
  {
   "cell_type": "code",
   "execution_count": 53,
   "metadata": {},
   "outputs": [],
   "source": [
    "from sklearn import preprocessing"
   ]
  },
  {
   "cell_type": "code",
   "execution_count": 54,
   "metadata": {},
   "outputs": [],
   "source": [
    "ss = preprocessing.StandardScaler()\n",
    "X_train_ss = ss.fit_transform(X_train)\n",
    "X_test_ss = ss.transform(X_test)"
   ]
  },
  {
   "cell_type": "code",
   "execution_count": 55,
   "metadata": {},
   "outputs": [],
   "source": [
    "C_list = [0.0001, 0.0005, 0.001, 0.005, 0.01, 0.05, 0.1, 0.5, 1, 2, 10, 50, 100, 200, 500, 1000, 2000, 5000, 10000]\n",
    "accuracy_train = []\n",
    "accuracy_test = []\n",
    "for C in C_list:\n",
    "    clf = LogisticRegression(max_iter = 10000, solver='lbfgs', penalty='l2', C=C)\n",
    "    clf.fit(X_train_ss, y_train)\n",
    "    # Make prediction - Train set\n",
    "    pred_train = clf.predict(X_train_ss)\n",
    "    # Accuracy Score\n",
    "    accuracy_train.append(metrics.accuracy_score(y_true = y_train, y_pred = pred_train))\n",
    "    # Make prediction - Test set\n",
    "    pred_test = clf.predict(X_test_ss)\n",
    "    # Accuracy Score\n",
    "    accuracy_test.append(metrics.accuracy_score(y_true = y_test, y_pred = pred_test))"
   ]
  },
  {
   "cell_type": "code",
   "execution_count": 56,
   "metadata": {},
   "outputs": [
    {
     "name": "stdout",
     "output_type": "stream",
     "text": [
      "C Value   | Train\n",
      "-------------------\n",
      "0.0001    | 0.64554   \n",
      "0.0005    | 0.83568   \n",
      "0.001     | 0.88498   \n",
      "0.005     | 0.94601   \n",
      "0.01      | 0.94836   \n",
      "0.05      | 0.97887   \n",
      "0.1       | 0.98357   \n",
      "0.5       | 0.99061   \n",
      "1         | 0.99061   \n",
      "2         | 0.99296   \n",
      "10        | 0.99296   \n",
      "50        | 0.99296   \n",
      "100       | 0.99296   \n",
      "200       | 0.99531   \n",
      "500       | 0.99765   \n",
      "1000      | 0.99765   \n",
      "2000      | 1.0       \n",
      "5000      | 1.0       \n",
      "10000     | 1.0       \n"
     ]
    }
   ],
   "source": [
    "print (\"C Value   | Train\")\n",
    "print (\"-------------------\")\n",
    "for c, acc1 in zip(C_list, accuracy_train):\n",
    "    #print(round(acc1, 2), \"|\", round(acc2, 2))\n",
    "    print (\"{:<10}| {:<10}\".format(c, round(acc1,5)))"
   ]
  },
  {
   "cell_type": "code",
   "execution_count": 58,
   "metadata": {},
   "outputs": [
    {
     "name": "stdout",
     "output_type": "stream",
     "text": [
      "C Value   | Test\n",
      "-------------------\n",
      "0.0001    | 0.63636   \n",
      "0.0005    | 0.86713   \n",
      "0.001     | 0.93007   \n",
      "0.005     | 0.96503   \n",
      "0.01      | 0.96503   \n",
      "0.05      | 0.97902   \n",
      "0.1       | 0.98601   \n",
      "0.5       | 0.98601   \n",
      "1         | 0.97902   \n",
      "2         | 0.97902   \n",
      "10        | 0.97902   \n",
      "50        | 0.97203   \n",
      "100       | 0.97203   \n",
      "200       | 0.97203   \n",
      "500       | 0.97203   \n",
      "1000      | 0.96503   \n",
      "2000      | 0.96503   \n",
      "5000      | 0.96503   \n",
      "10000     | 0.96503   \n"
     ]
    }
   ],
   "source": [
    "print (\"C Value   | Test\")\n",
    "print (\"-------------------\")\n",
    "for c, acc2 in zip(C_list, accuracy_test):\n",
    "    #print(round(acc1, 2), \"|\", round(acc2, 2))\n",
    "    print (\"{:<10}| {:<10}\".format(c, round(acc2,5)))"
   ]
  },
  {
   "cell_type": "code",
   "execution_count": 59,
   "metadata": {},
   "outputs": [
    {
     "data": {
      "image/png": "[encoded data removed]",
      "text/plain": [
       "<Figure size 432x288 with 1 Axes>"
      ]
     },
     "metadata": {
      "needs_background": "light"
     },
     "output_type": "display_data"
    }
   ],
   "source": [
    "plt.plot(accuracy_train, label = 'train')\n",
    "plt.plot(accuracy_test, label = 'test')\n",
    "plt.xticks(np.arange(len(C_list)), C_list, rotation=45)\n",
    "plt.xlabel('C')\n",
    "plt.ylabel('Accuracy')\n",
    "plt.legend()\n",
    "plt.show()"
   ]
  },
  {
   "cell_type": "markdown",
   "metadata": {},
   "source": [
    "From a list of test accuracy, it shows that C = 0.5 provides the highest accuarcy of test set which is 98.6% together with 99% accuracy in train set. At this C = 0.5, it suggests the highest accuracy of test set while the amount greater than 0.5 likely to produce less accuracy in test set."
   ]
  },
  {
   "cell_type": "code",
   "execution_count": 60,
   "metadata": {},
   "outputs": [
    {
     "data": {
      "text/plain": [
       "(426, 30)"
      ]
     },
     "execution_count": 60,
     "metadata": {},
     "output_type": "execute_result"
    }
   ],
   "source": [
    "X_train_ss.shape"
   ]
  },
  {
   "cell_type": "code",
   "execution_count": 61,
   "metadata": {},
   "outputs": [
    {
     "data": {
      "text/plain": [
       "(426, 30)"
      ]
     },
     "execution_count": 61,
     "metadata": {},
     "output_type": "execute_result"
    }
   ],
   "source": [
    "X_train_ss[0:426,:].shape"
   ]
  },
  {
   "cell_type": "markdown",
   "metadata": {},
   "source": [
    "- After choosing your best C value, let's check the learning curve.\n",
    "- Create a logistic regression model of your chosen C value, and the other parameters the same as before.\n",
    "- Starting from 1 data point in the training set, increase your training set size by 1 point in each iteration, fit the model, get the accuracy scores for both the current training and test sets.\n",
    "- Increase the training set size consecutively. Do not randomly select data points. (`X_train_ss[0:N,:] where N = {1,2,3,...,len(X_train_ss)}`)\n",
    "- Plot the learning curve. What do you see? Comment on your finding. "
   ]
  },
  {
   "cell_type": "code",
   "execution_count": 62,
   "metadata": {},
   "outputs": [
    {
     "data": {
      "text/plain": [
       "(426, 30)"
      ]
     },
     "execution_count": 62,
     "metadata": {},
     "output_type": "execute_result"
    }
   ],
   "source": [
    "X_train_ss.shape"
   ]
  },
  {
   "cell_type": "code",
   "execution_count": 63,
   "metadata": {},
   "outputs": [],
   "source": [
    "#from sklearn.model_selection import learning_curve"
   ]
  },
  {
   "cell_type": "code",
   "execution_count": 64,
   "metadata": {},
   "outputs": [],
   "source": [
    "clf = LogisticRegression(max_iter = 10000, solver='lbfgs', penalty='l2', C=0.5)\n",
    "accuracy_train = []\n",
    "accuracy_test = []\n",
    "for N in range(2, len(X_train_ss)):\n",
    "    #print(N)\n",
    "    clf.fit(X_train_ss[0:N], y_train[0:N])\n",
    "    # Make prediction - Train set\n",
    "    pred_train = clf.predict(X_train_ss[0:N])\n",
    "    # Accuracy Score\n",
    "    accuracy_train.append(metrics.accuracy_score(y_true = y_train[0:N], y_pred = pred_train))\n",
    "    # Make prediction - Test set\n",
    "    pred_test = clf.predict(X_test_ss)\n",
    "    # Accuracy Score\n",
    "    accuracy_test.append(metrics.accuracy_score(y_true = y_test, y_pred = pred_test)) "
   ]
  },
  {
   "cell_type": "code",
   "execution_count": 65,
   "metadata": {},
   "outputs": [
    {
     "name": "stdout",
     "output_type": "stream",
     "text": [
      "A list of accuracy results for train set\n",
      "1.0\n",
      "1.0\n",
      "1.0\n",
      "1.0\n",
      "1.0\n",
      "1.0\n",
      "1.0\n",
      "1.0\n",
      "1.0\n",
      "1.0\n",
      "1.0\n",
      "1.0\n",
      "1.0\n",
      "1.0\n",
      "1.0\n",
      "1.0\n",
      "1.0\n",
      "1.0\n",
      "1.0\n",
      "1.0\n",
      "1.0\n",
      "1.0\n",
      "1.0\n",
      "1.0\n",
      "1.0\n",
      "1.0\n",
      "1.0\n",
      "1.0\n",
      "1.0\n",
      "1.0\n",
      "1.0\n",
      "1.0\n",
      "1.0\n",
      "1.0\n",
      "1.0\n",
      "1.0\n",
      "1.0\n",
      "1.0\n",
      "1.0\n",
      "1.0\n",
      "1.0\n",
      "1.0\n",
      "1.0\n",
      "1.0\n",
      "1.0\n",
      "1.0\n",
      "1.0\n",
      "1.0\n",
      "1.0\n",
      "1.0\n",
      "1.0\n",
      "1.0\n",
      "0.9814814814814815\n",
      "0.9818181818181818\n",
      "0.9821428571428571\n",
      "1.0\n",
      "1.0\n",
      "1.0\n",
      "1.0\n",
      "1.0\n",
      "1.0\n",
      "1.0\n",
      "0.984375\n",
      "0.9846153846153847\n",
      "0.9848484848484849\n",
      "0.9850746268656716\n",
      "0.9852941176470589\n",
      "0.9855072463768116\n",
      "0.9857142857142858\n",
      "0.9859154929577465\n",
      "0.9861111111111112\n",
      "0.9863013698630136\n",
      "0.9864864864864865\n",
      "0.9866666666666667\n",
      "0.9868421052631579\n",
      "0.987012987012987\n",
      "0.9871794871794872\n",
      "0.9873417721518988\n",
      "0.9875\n",
      "0.9876543209876543\n",
      "0.9878048780487805\n",
      "0.9879518072289156\n",
      "0.9880952380952381\n",
      "0.9882352941176471\n",
      "0.9883720930232558\n",
      "0.9885057471264368\n",
      "0.9886363636363636\n",
      "0.9887640449438202\n",
      "0.9888888888888889\n",
      "0.989010989010989\n",
      "0.9891304347826086\n",
      "0.989247311827957\n",
      "0.9787234042553191\n",
      "0.9789473684210527\n",
      "0.9791666666666666\n",
      "0.979381443298969\n",
      "0.9795918367346939\n",
      "0.9797979797979798\n",
      "0.98\n",
      "0.9801980198019802\n",
      "0.9803921568627451\n",
      "0.9805825242718447\n",
      "0.9807692307692307\n",
      "0.9809523809523809\n",
      "0.9811320754716981\n",
      "0.9906542056074766\n",
      "0.9907407407407407\n",
      "0.9908256880733946\n",
      "0.990909090909091\n",
      "0.990990990990991\n",
      "0.9910714285714286\n",
      "0.9911504424778761\n",
      "0.9912280701754386\n",
      "0.991304347826087\n",
      "0.9913793103448276\n",
      "0.9914529914529915\n",
      "0.9915254237288136\n",
      "0.9915966386554622\n",
      "0.9916666666666667\n",
      "0.9917355371900827\n",
      "0.9918032786885246\n",
      "0.991869918699187\n",
      "0.9919354838709677\n",
      "0.992\n",
      "0.9920634920634921\n",
      "0.9921259842519685\n",
      "0.9921875\n",
      "0.9922480620155039\n",
      "0.9923076923076923\n",
      "0.9923664122137404\n",
      "0.9924242424242424\n",
      "0.9924812030075187\n",
      "0.9925373134328358\n",
      "0.9925925925925926\n",
      "0.9926470588235294\n",
      "0.9927007299270073\n",
      "0.9927536231884058\n",
      "0.9928057553956835\n",
      "0.9928571428571429\n",
      "0.9929078014184397\n",
      "0.9929577464788732\n",
      "0.993006993006993\n",
      "0.9930555555555556\n",
      "0.993103448275862\n",
      "0.9863013698630136\n",
      "0.9931972789115646\n",
      "0.9864864864864865\n",
      "0.9865771812080537\n",
      "0.9866666666666667\n",
      "0.9867549668874173\n",
      "0.9868421052631579\n",
      "0.9934640522875817\n",
      "0.9935064935064936\n",
      "0.9935483870967742\n",
      "0.9935897435897436\n",
      "0.9936305732484076\n",
      "0.9936708860759493\n",
      "0.9937106918238994\n",
      "0.99375\n",
      "0.9937888198757764\n",
      "0.9938271604938271\n",
      "0.9877300613496932\n",
      "0.9878048780487805\n",
      "0.9878787878787879\n",
      "0.9879518072289156\n",
      "0.9880239520958084\n",
      "0.9880952380952381\n",
      "0.9881656804733728\n",
      "0.9882352941176471\n",
      "0.9883040935672515\n",
      "0.9883720930232558\n",
      "0.9884393063583815\n",
      "0.9885057471264368\n",
      "0.9885714285714285\n",
      "0.9886363636363636\n",
      "0.9887005649717514\n",
      "0.9887640449438202\n",
      "0.9888268156424581\n",
      "0.9888888888888889\n",
      "0.988950276243094\n",
      "0.989010989010989\n",
      "0.9890710382513661\n",
      "0.9891304347826086\n",
      "0.9891891891891892\n",
      "0.989247311827957\n",
      "0.9893048128342246\n",
      "0.9893617021276596\n",
      "0.9894179894179894\n",
      "0.9894736842105263\n",
      "0.9895287958115183\n",
      "0.9895833333333334\n",
      "0.9896373056994818\n",
      "0.9896907216494846\n",
      "0.9897435897435898\n",
      "0.9897959183673469\n",
      "0.9898477157360406\n",
      "0.98989898989899\n",
      "0.9899497487437185\n",
      "0.99\n",
      "0.9900497512437811\n",
      "0.9900990099009901\n",
      "0.9901477832512315\n",
      "0.9901960784313726\n",
      "0.9902439024390244\n",
      "0.9902912621359223\n",
      "0.9903381642512077\n",
      "0.9903846153846154\n",
      "0.9904306220095693\n",
      "0.9904761904761905\n",
      "0.990521327014218\n",
      "0.9905660377358491\n",
      "0.9906103286384976\n",
      "0.9906542056074766\n",
      "0.9906976744186047\n",
      "0.9907407407407407\n",
      "0.9907834101382489\n",
      "0.9908256880733946\n",
      "0.9954337899543378\n",
      "0.9954545454545455\n",
      "0.995475113122172\n",
      "0.9954954954954955\n",
      "0.9955156950672646\n",
      "0.9955357142857143\n",
      "0.9955555555555555\n",
      "0.995575221238938\n",
      "0.9955947136563876\n",
      "0.9956140350877193\n",
      "0.9956331877729258\n",
      "0.991304347826087\n",
      "0.9913419913419913\n",
      "0.9870689655172413\n",
      "0.9828326180257511\n",
      "0.9829059829059829\n",
      "0.9829787234042553\n",
      "0.9830508474576272\n",
      "0.9831223628691983\n",
      "0.9831932773109243\n",
      "0.9832635983263598\n",
      "0.9833333333333333\n",
      "0.983402489626556\n",
      "0.9834710743801653\n",
      "0.9835390946502057\n",
      "0.9836065573770492\n",
      "0.9836734693877551\n",
      "0.9878048780487805\n",
      "0.9919028340080972\n",
      "0.9919354838709677\n",
      "0.9919678714859438\n",
      "0.992\n",
      "0.9880478087649402\n",
      "0.9880952380952381\n",
      "0.9881422924901185\n",
      "0.9881889763779528\n",
      "0.9882352941176471\n",
      "0.98828125\n",
      "0.9883268482490273\n",
      "0.9883720930232558\n",
      "0.9884169884169884\n",
      "0.9884615384615385\n",
      "0.9885057471264368\n",
      "0.9885496183206107\n",
      "0.9885931558935361\n",
      "0.9886363636363636\n",
      "0.9886792452830189\n",
      "0.9887218045112782\n",
      "0.9887640449438202\n",
      "0.9888059701492538\n",
      "0.9888475836431226\n",
      "0.9888888888888889\n",
      "0.988929889298893\n",
      "0.9889705882352942\n",
      "0.989010989010989\n",
      "0.9854014598540146\n",
      "0.9854545454545455\n",
      "0.9855072463768116\n",
      "0.9891696750902527\n",
      "0.9928057553956835\n",
      "0.992831541218638\n",
      "0.9928571428571429\n",
      "0.9928825622775801\n",
      "0.9929078014184397\n",
      "0.9929328621908127\n",
      "0.9929577464788732\n",
      "0.9929824561403509\n",
      "0.993006993006993\n",
      "0.9930313588850174\n",
      "0.9930555555555556\n",
      "0.9930795847750865\n",
      "0.993103448275862\n",
      "0.993127147766323\n",
      "0.9931506849315068\n",
      "0.9931740614334471\n",
      "0.9931972789115646\n",
      "0.9932203389830508\n",
      "0.9932432432432432\n",
      "0.9932659932659933\n",
      "0.9932885906040269\n",
      "0.9933110367892977\n",
      "0.9933333333333333\n",
      "0.9933554817275747\n",
      "0.9933774834437086\n",
      "0.9933993399339934\n",
      "0.993421052631579\n",
      "0.9934426229508196\n",
      "0.9934640522875817\n",
      "0.993485342019544\n",
      "0.9935064935064936\n",
      "0.9935275080906149\n",
      "0.9935483870967742\n",
      "0.9935691318327974\n",
      "0.9903846153846154\n",
      "0.9904153354632588\n",
      "0.9904458598726115\n",
      "0.9904761904761905\n",
      "0.990506329113924\n",
      "0.9905362776025236\n",
      "0.9905660377358491\n",
      "0.9905956112852664\n",
      "0.990625\n",
      "0.9906542056074766\n",
      "0.9906832298136646\n",
      "0.9907120743034056\n",
      "0.9938271604938271\n",
      "0.9907692307692307\n",
      "0.99079754601227\n",
      "0.9908256880733946\n",
      "0.9878048780487805\n",
      "0.9878419452887538\n",
      "0.9878787878787879\n",
      "0.9879154078549849\n",
      "0.9879518072289156\n",
      "0.987987987987988\n",
      "0.9910179640718563\n",
      "0.991044776119403\n",
      "0.9910714285714286\n",
      "0.9910979228486647\n",
      "0.9911242603550295\n",
      "0.9911504424778761\n",
      "0.9911764705882353\n",
      "0.9912023460410557\n",
      "0.9883040935672515\n",
      "0.9883381924198251\n",
      "0.9883720930232558\n",
      "0.9884057971014493\n",
      "0.9913294797687862\n",
      "0.9913544668587896\n",
      "0.9913793103448276\n",
      "0.9914040114613181\n",
      "0.9914285714285714\n",
      "0.9914529914529915\n",
      "0.9914772727272727\n",
      "0.9915014164305949\n",
      "0.9915254237288136\n",
      "0.9915492957746479\n",
      "0.9915730337078652\n",
      "0.9915966386554622\n",
      "0.9916201117318436\n",
      "0.9916434540389972\n",
      "0.9916666666666667\n",
      "0.9916897506925207\n",
      "0.9917127071823204\n",
      "0.9917355371900827\n",
      "0.9917582417582418\n",
      "0.9917808219178083\n",
      "0.9918032786885246\n",
      "0.9918256130790191\n",
      "0.9918478260869565\n",
      "0.991869918699187\n",
      "0.9918918918918919\n",
      "0.9919137466307277\n",
      "0.9919354838709677\n",
      "0.9919571045576407\n",
      "0.9919786096256684\n",
      "0.992\n",
      "0.9920212765957447\n",
      "0.9920424403183024\n",
      "0.9920634920634921\n",
      "0.9920844327176781\n",
      "0.9921052631578947\n",
      "0.9921259842519685\n",
      "0.9921465968586387\n",
      "0.9921671018276762\n",
      "0.9921875\n",
      "0.9922077922077922\n",
      "0.9922279792746114\n",
      "0.9922480620155039\n",
      "0.9922680412371134\n",
      "0.9922879177377892\n",
      "0.9923076923076923\n",
      "0.9923273657289002\n",
      "0.9923469387755102\n",
      "0.9923664122137404\n",
      "0.9923857868020305\n",
      "0.9924050632911392\n",
      "0.9924242424242424\n",
      "0.9924433249370277\n",
      "0.992462311557789\n",
      "0.9924812030075187\n",
      "0.9925\n",
      "0.9925187032418953\n",
      "0.9925373134328358\n",
      "0.9925558312655087\n",
      "0.9925742574257426\n",
      "0.9901234567901235\n",
      "0.9901477832512315\n",
      "0.9901719901719902\n",
      "0.9901960784313726\n",
      "0.9902200488997555\n",
      "0.9902439024390244\n",
      "0.9902676399026764\n",
      "0.9902912621359223\n",
      "0.9903147699757869\n",
      "0.9903381642512077\n",
      "0.9903614457831326\n",
      "0.9903846153846154\n",
      "0.9904076738609112\n",
      "0.9904306220095693\n",
      "0.9904534606205251\n",
      "0.9904761904761905\n",
      "0.9904988123515439\n",
      "0.990521327014218\n",
      "0.9905437352245863\n",
      "0.9905660377358491\n",
      "0.9905882352941177\n"
     ]
    }
   ],
   "source": [
    "print(\"A list of accuracy results for train set\")\n",
    "for acc in accuracy_train:\n",
    "    print(acc)"
   ]
  },
  {
   "cell_type": "code",
   "execution_count": 66,
   "metadata": {},
   "outputs": [
    {
     "name": "stdout",
     "output_type": "stream",
     "text": [
      "A list of accuracy results for test set\n",
      "0.8181818181818182\n",
      "0.5664335664335665\n",
      "0.8461538461538461\n",
      "0.7972027972027972\n",
      "0.7972027972027972\n",
      "0.7832167832167832\n",
      "0.8741258741258742\n",
      "0.9230769230769231\n",
      "0.9230769230769231\n",
      "0.9230769230769231\n",
      "0.9300699300699301\n",
      "0.9300699300699301\n",
      "0.9440559440559441\n",
      "0.951048951048951\n",
      "0.951048951048951\n",
      "0.958041958041958\n",
      "0.958041958041958\n",
      "0.958041958041958\n",
      "0.958041958041958\n",
      "0.958041958041958\n",
      "0.958041958041958\n",
      "0.965034965034965\n",
      "0.965034965034965\n",
      "0.965034965034965\n",
      "0.965034965034965\n",
      "0.965034965034965\n",
      "0.958041958041958\n",
      "0.958041958041958\n",
      "0.958041958041958\n",
      "0.958041958041958\n",
      "0.958041958041958\n",
      "0.958041958041958\n",
      "0.965034965034965\n",
      "0.965034965034965\n",
      "0.965034965034965\n",
      "0.972027972027972\n",
      "0.972027972027972\n",
      "0.972027972027972\n",
      "0.972027972027972\n",
      "0.972027972027972\n",
      "0.972027972027972\n",
      "0.972027972027972\n",
      "0.972027972027972\n",
      "0.972027972027972\n",
      "0.9790209790209791\n",
      "0.9790209790209791\n",
      "0.965034965034965\n",
      "0.965034965034965\n",
      "0.965034965034965\n",
      "0.965034965034965\n",
      "0.965034965034965\n",
      "0.965034965034965\n",
      "0.972027972027972\n",
      "0.972027972027972\n",
      "0.972027972027972\n",
      "0.972027972027972\n",
      "0.972027972027972\n",
      "0.972027972027972\n",
      "0.972027972027972\n",
      "0.972027972027972\n",
      "0.972027972027972\n",
      "0.972027972027972\n",
      "0.972027972027972\n",
      "0.972027972027972\n",
      "0.972027972027972\n",
      "0.972027972027972\n",
      "0.972027972027972\n",
      "0.972027972027972\n",
      "0.972027972027972\n",
      "0.972027972027972\n",
      "0.972027972027972\n",
      "0.972027972027972\n",
      "0.972027972027972\n",
      "0.972027972027972\n",
      "0.972027972027972\n",
      "0.972027972027972\n",
      "0.972027972027972\n",
      "0.972027972027972\n",
      "0.972027972027972\n",
      "0.972027972027972\n",
      "0.972027972027972\n",
      "0.972027972027972\n",
      "0.965034965034965\n",
      "0.965034965034965\n",
      "0.965034965034965\n",
      "0.965034965034965\n",
      "0.965034965034965\n",
      "0.965034965034965\n",
      "0.965034965034965\n",
      "0.965034965034965\n",
      "0.965034965034965\n",
      "0.965034965034965\n",
      "0.9790209790209791\n",
      "0.9790209790209791\n",
      "0.9790209790209791\n",
      "0.9790209790209791\n",
      "0.9790209790209791\n",
      "0.9790209790209791\n",
      "0.9790209790209791\n",
      "0.972027972027972\n",
      "0.986013986013986\n",
      "0.986013986013986\n",
      "0.986013986013986\n",
      "0.986013986013986\n",
      "0.986013986013986\n",
      "0.986013986013986\n",
      "0.986013986013986\n",
      "0.986013986013986\n",
      "0.986013986013986\n",
      "0.986013986013986\n",
      "0.9790209790209791\n",
      "0.9790209790209791\n",
      "0.9790209790209791\n",
      "0.9790209790209791\n",
      "0.9790209790209791\n",
      "0.9790209790209791\n",
      "0.9790209790209791\n",
      "0.9790209790209791\n",
      "0.9790209790209791\n",
      "0.9790209790209791\n",
      "0.9790209790209791\n",
      "0.9790209790209791\n",
      "0.9790209790209791\n",
      "0.9790209790209791\n",
      "0.9790209790209791\n",
      "0.9790209790209791\n",
      "0.9790209790209791\n",
      "0.9790209790209791\n",
      "0.9790209790209791\n",
      "0.9790209790209791\n",
      "0.9790209790209791\n",
      "0.9790209790209791\n",
      "0.9790209790209791\n",
      "0.9790209790209791\n",
      "0.9790209790209791\n",
      "0.9790209790209791\n",
      "0.9790209790209791\n",
      "0.9790209790209791\n",
      "0.9790209790209791\n",
      "0.9790209790209791\n",
      "0.9790209790209791\n",
      "0.9790209790209791\n",
      "0.9790209790209791\n",
      "0.9790209790209791\n",
      "0.986013986013986\n",
      "0.986013986013986\n",
      "0.986013986013986\n",
      "0.986013986013986\n",
      "0.986013986013986\n",
      "0.986013986013986\n",
      "0.986013986013986\n",
      "0.9790209790209791\n",
      "0.9790209790209791\n",
      "0.9790209790209791\n",
      "0.9790209790209791\n",
      "0.9790209790209791\n",
      "0.9790209790209791\n",
      "0.9790209790209791\n",
      "0.9790209790209791\n",
      "0.9790209790209791\n",
      "0.9790209790209791\n",
      "0.9790209790209791\n",
      "0.986013986013986\n",
      "0.9790209790209791\n",
      "0.9790209790209791\n",
      "0.9790209790209791\n",
      "0.9790209790209791\n",
      "0.9790209790209791\n",
      "0.9790209790209791\n",
      "0.9790209790209791\n",
      "0.9790209790209791\n",
      "0.9790209790209791\n",
      "0.9790209790209791\n",
      "0.9790209790209791\n",
      "0.9790209790209791\n",
      "0.9790209790209791\n",
      "0.9790209790209791\n",
      "0.9790209790209791\n",
      "0.9790209790209791\n",
      "0.9790209790209791\n",
      "0.9790209790209791\n",
      "0.9790209790209791\n",
      "0.9790209790209791\n",
      "0.9790209790209791\n",
      "0.9790209790209791\n",
      "0.9790209790209791\n",
      "0.9790209790209791\n",
      "0.9790209790209791\n",
      "0.9790209790209791\n",
      "0.9790209790209791\n",
      "0.9790209790209791\n",
      "0.9790209790209791\n",
      "0.9790209790209791\n",
      "0.9790209790209791\n",
      "0.9790209790209791\n",
      "0.9790209790209791\n",
      "0.9790209790209791\n",
      "0.9790209790209791\n",
      "0.9790209790209791\n",
      "0.9790209790209791\n",
      "0.9790209790209791\n",
      "0.9790209790209791\n",
      "0.9790209790209791\n",
      "0.9790209790209791\n",
      "0.9790209790209791\n",
      "0.9790209790209791\n",
      "0.9790209790209791\n",
      "0.9790209790209791\n",
      "0.9790209790209791\n",
      "0.9790209790209791\n",
      "0.9790209790209791\n",
      "0.9790209790209791\n",
      "0.9790209790209791\n",
      "0.9790209790209791\n",
      "0.9790209790209791\n",
      "0.9790209790209791\n",
      "0.9790209790209791\n",
      "0.9790209790209791\n",
      "0.9790209790209791\n",
      "0.9790209790209791\n",
      "0.9790209790209791\n",
      "0.9790209790209791\n",
      "0.9790209790209791\n",
      "0.9790209790209791\n",
      "0.9790209790209791\n",
      "0.9790209790209791\n",
      "0.9790209790209791\n",
      "0.9790209790209791\n",
      "0.9790209790209791\n",
      "0.9790209790209791\n",
      "0.9790209790209791\n",
      "0.986013986013986\n",
      "0.986013986013986\n",
      "0.986013986013986\n",
      "0.986013986013986\n",
      "0.986013986013986\n",
      "0.986013986013986\n",
      "0.986013986013986\n",
      "0.986013986013986\n",
      "0.986013986013986\n",
      "0.986013986013986\n",
      "0.986013986013986\n",
      "0.986013986013986\n",
      "0.986013986013986\n",
      "0.986013986013986\n",
      "0.986013986013986\n",
      "0.986013986013986\n",
      "0.986013986013986\n",
      "0.986013986013986\n",
      "0.9790209790209791\n",
      "0.9790209790209791\n",
      "0.9790209790209791\n",
      "0.9790209790209791\n",
      "0.986013986013986\n",
      "0.9790209790209791\n",
      "0.9790209790209791\n",
      "0.9790209790209791\n",
      "0.9790209790209791\n",
      "0.9790209790209791\n",
      "0.986013986013986\n",
      "0.986013986013986\n",
      "0.986013986013986\n",
      "0.986013986013986\n",
      "0.986013986013986\n",
      "0.986013986013986\n",
      "0.986013986013986\n",
      "0.986013986013986\n",
      "0.986013986013986\n",
      "0.986013986013986\n",
      "0.986013986013986\n",
      "0.986013986013986\n",
      "0.9790209790209791\n",
      "0.9790209790209791\n",
      "0.9790209790209791\n",
      "0.986013986013986\n",
      "0.986013986013986\n",
      "0.9790209790209791\n",
      "0.9790209790209791\n",
      "0.9790209790209791\n",
      "0.9790209790209791\n",
      "0.9790209790209791\n",
      "0.9790209790209791\n",
      "0.9790209790209791\n",
      "0.986013986013986\n",
      "0.986013986013986\n",
      "0.986013986013986\n",
      "0.9790209790209791\n",
      "0.9790209790209791\n",
      "0.986013986013986\n",
      "0.986013986013986\n",
      "0.9790209790209791\n",
      "0.9790209790209791\n",
      "0.9790209790209791\n",
      "0.9790209790209791\n",
      "0.9790209790209791\n",
      "0.9790209790209791\n",
      "0.9790209790209791\n",
      "0.9790209790209791\n",
      "0.9790209790209791\n",
      "0.9790209790209791\n",
      "0.9790209790209791\n",
      "0.9790209790209791\n",
      "0.9790209790209791\n",
      "0.9790209790209791\n",
      "0.9790209790209791\n",
      "0.9790209790209791\n",
      "0.9790209790209791\n",
      "0.9790209790209791\n",
      "0.9790209790209791\n",
      "0.9790209790209791\n",
      "0.9790209790209791\n",
      "0.9790209790209791\n",
      "0.9790209790209791\n",
      "0.9790209790209791\n",
      "0.9790209790209791\n",
      "0.9790209790209791\n",
      "0.9790209790209791\n",
      "0.9790209790209791\n",
      "0.9790209790209791\n",
      "0.9790209790209791\n",
      "0.9790209790209791\n",
      "0.9790209790209791\n",
      "0.986013986013986\n",
      "0.986013986013986\n",
      "0.986013986013986\n",
      "0.986013986013986\n",
      "0.986013986013986\n",
      "0.986013986013986\n",
      "0.986013986013986\n",
      "0.986013986013986\n",
      "0.986013986013986\n",
      "0.986013986013986\n",
      "0.986013986013986\n",
      "0.986013986013986\n",
      "0.986013986013986\n",
      "0.986013986013986\n",
      "0.986013986013986\n",
      "0.986013986013986\n",
      "0.986013986013986\n",
      "0.986013986013986\n",
      "0.986013986013986\n",
      "0.986013986013986\n",
      "0.986013986013986\n",
      "0.986013986013986\n",
      "0.986013986013986\n",
      "0.986013986013986\n",
      "0.986013986013986\n",
      "0.986013986013986\n",
      "0.986013986013986\n",
      "0.986013986013986\n",
      "0.986013986013986\n",
      "0.986013986013986\n",
      "0.986013986013986\n",
      "0.986013986013986\n",
      "0.986013986013986\n",
      "0.986013986013986\n",
      "0.986013986013986\n",
      "0.986013986013986\n",
      "0.986013986013986\n",
      "0.986013986013986\n",
      "0.986013986013986\n",
      "0.986013986013986\n",
      "0.986013986013986\n",
      "0.986013986013986\n",
      "0.986013986013986\n",
      "0.986013986013986\n",
      "0.986013986013986\n",
      "0.986013986013986\n",
      "0.986013986013986\n",
      "0.986013986013986\n",
      "0.986013986013986\n",
      "0.986013986013986\n",
      "0.986013986013986\n",
      "0.986013986013986\n",
      "0.986013986013986\n",
      "0.986013986013986\n",
      "0.986013986013986\n",
      "0.986013986013986\n",
      "0.986013986013986\n",
      "0.986013986013986\n",
      "0.986013986013986\n",
      "0.986013986013986\n",
      "0.986013986013986\n",
      "0.986013986013986\n",
      "0.986013986013986\n",
      "0.986013986013986\n",
      "0.986013986013986\n",
      "0.986013986013986\n",
      "0.986013986013986\n",
      "0.986013986013986\n",
      "0.986013986013986\n",
      "0.986013986013986\n",
      "0.986013986013986\n",
      "0.986013986013986\n",
      "0.986013986013986\n",
      "0.986013986013986\n",
      "0.986013986013986\n",
      "0.986013986013986\n",
      "0.986013986013986\n",
      "0.986013986013986\n",
      "0.986013986013986\n",
      "0.986013986013986\n",
      "0.986013986013986\n",
      "0.986013986013986\n",
      "0.986013986013986\n",
      "0.986013986013986\n",
      "0.986013986013986\n",
      "0.986013986013986\n",
      "0.986013986013986\n",
      "0.986013986013986\n",
      "0.986013986013986\n",
      "0.986013986013986\n",
      "0.986013986013986\n",
      "0.986013986013986\n",
      "0.986013986013986\n",
      "0.986013986013986\n",
      "0.986013986013986\n",
      "0.986013986013986\n",
      "0.986013986013986\n",
      "0.986013986013986\n",
      "0.986013986013986\n",
      "0.986013986013986\n",
      "0.986013986013986\n",
      "0.986013986013986\n"
     ]
    }
   ],
   "source": [
    "print(\"A list of accuracy results for test set\")\n",
    "for acc in accuracy_test:\n",
    "    print(acc)"
   ]
  },
  {
   "cell_type": "code",
   "execution_count": 67,
   "metadata": {
    "scrolled": true
   },
   "outputs": [
    {
     "data": {
      "image/png": "[encoded data removed]",
      "text/plain": [
       "<Figure size 432x288 with 1 Axes>"
      ]
     },
     "metadata": {
      "needs_background": "light"
     },
     "output_type": "display_data"
    }
   ],
   "source": [
    "plt.plot(accuracy_train, label = 'train')\n",
    "plt.plot(accuracy_test, label = 'test')\n",
    "plt.xticks(np.arange(2, len(X_train_ss), step=50))\n",
    "plt.xlabel('Number of training samples')\n",
    "plt.ylabel('Accuracy')\n",
    "plt.legend()\n",
    "plt.show()"
   ]
  },
  {
   "cell_type": "markdown",
   "metadata": {},
   "source": [
    "This plot shows a correlation between a learner's accuracy on a task and the number of training samples required to complete the task; this can be represented as a direct proportion on a plot. The graph showing the rate of progression increases rapidly at the beginning and then reach a plateau over time where the individual is no longer progressing."
   ]
  },
  {
   "cell_type": "markdown",
   "metadata": {},
   "source": [
    "- Before applying KNN, it is important to scale the features. \n",
    "- Use the standardized train and test sets re-do Quesion 10 and plot the validation curve for KNN models with same parameter range for K. \n",
    "- Plot the validation curve. What do you see? \n",
    "- Which value would you choose for K in nearest neighbor model?"
   ]
  },
  {
   "cell_type": "code",
   "execution_count": 69,
   "metadata": {},
   "outputs": [],
   "source": [
    "K_list = [1,3,5,7,9,15,19,25,29,35,39,45,49,99]\n",
    "accuracy_train = []\n",
    "accuracy_test = []\n",
    "for K in K_list:\n",
    "    clf = KNeighborsClassifier(n_neighbors=K)\n",
    "    clf.fit(X_train_ss, y_train)\n",
    "    # Make prediction - Train set\n",
    "    pred_train = clf.predict(X_train_ss)\n",
    "    # Accuracy Score\n",
    "    accuracy_train.append(metrics.accuracy_score(y_true = y_train, y_pred = pred_train))\n",
    "    # Make prediction - Test set\n",
    "    pred_test = clf.predict(X_test_ss)\n",
    "    # Accuracy Score\n",
    "    accuracy_test.append(metrics.accuracy_score(y_true = y_test, y_pred = pred_test))"
   ]
  },
  {
   "cell_type": "code",
   "execution_count": 70,
   "metadata": {},
   "outputs": [
    {
     "name": "stdout",
     "output_type": "stream",
     "text": [
      "K         | Accuracy\n",
      "---------------------\n",
      "1         | 1.0       \n",
      "3         | 0.98357   \n",
      "5         | 0.97887   \n",
      "7         | 0.97183   \n",
      "9         | 0.97183   \n",
      "15        | 0.95775   \n",
      "19        | 0.96009   \n",
      "25        | 0.95305   \n",
      "29        | 0.94836   \n",
      "35        | 0.95305   \n",
      "39        | 0.95305   \n",
      "45        | 0.94601   \n",
      "49        | 0.94836   \n",
      "99        | 0.92488   \n"
     ]
    }
   ],
   "source": [
    "print(\"K         | Accuracy\")\n",
    "print(\"---------------------\")\n",
    "for k, acc in zip(K_list, accuracy_train):\n",
    "    print (\"{:<10}| {:<10}\".format(k, round(acc,5)))"
   ]
  },
  {
   "cell_type": "code",
   "execution_count": 71,
   "metadata": {},
   "outputs": [
    {
     "name": "stdout",
     "output_type": "stream",
     "text": [
      "K         | Accuracy\n",
      "---------------------\n",
      "1         | 0.95105   \n",
      "3         | 0.96503   \n",
      "5         | 0.97203   \n",
      "7         | 0.97203   \n",
      "9         | 0.97902   \n",
      "15        | 0.97203   \n",
      "19        | 0.97203   \n",
      "25        | 0.96503   \n",
      "29        | 0.96503   \n",
      "35        | 0.97203   \n",
      "39        | 0.97203   \n",
      "45        | 0.97203   \n",
      "49        | 0.96503   \n",
      "99        | 0.95105   \n"
     ]
    }
   ],
   "source": [
    "print(\"K         | Accuracy\")\n",
    "print(\"---------------------\")\n",
    "for k, acc in zip(K_list, accuracy_test):\n",
    "    print (\"{:<10}| {:<10}\".format(k, round(acc,5)))"
   ]
  },
  {
   "cell_type": "code",
   "execution_count": 72,
   "metadata": {},
   "outputs": [
    {
     "data": {
      "image/png": "[encoded data removed]",
      "text/plain": [
       "<Figure size 432x288 with 1 Axes>"
      ]
     },
     "metadata": {
      "needs_background": "light"
     },
     "output_type": "display_data"
    }
   ],
   "source": [
    "plt.plot(accuracy_train, label = 'train')\n",
    "plt.plot(accuracy_test, label = 'test')\n",
    "plt.xticks(np.arange(len(K_list)), K_list, rotation=45)\n",
    "plt.xlabel('K')\n",
    "plt.ylabel('Accuracy')\n",
    "plt.legend()\n",
    "plt.show()"
   ]
  },
  {
   "cell_type": "markdown",
   "metadata": {},
   "source": [
    "With comparison to the validation plot in question 10, it is obvious that the accuracy is improved in this time due to the face that the train and test sets has been standardized before fitting the models. Referring to the plot above, the test line has optimal accuracy at K = 9 while it was K = 3 before completing the standardization in the train and test sets. "
   ]
  },
  {
   "cell_type": "markdown",
   "metadata": {},
   "source": [
    "- Using only the classifier models of logistic regression, Gaussian Naive Bayes, or KNN models:\n",
    "    - Think of other ways of improving the accuracy and list at least two possibilities.\n",
    "    - Implement one of the methods you proposed. \n",
    "    - Is the model accuracy increasing? Why do you think this might have helped?\n",
    "    - If it not increasing, try the other method you proposed. Why do you think this might have helped?\n",
    "    - If none of them did not improve, comment on why this might have been the case.\n",
    "    - If you have time try a few more solutions and see which one works. "
   ]
  },
  {
   "cell_type": "markdown",
   "metadata": {},
   "source": [
    "There are multiple ways in order to improve the accuracy of machine learning models. Three fundamental ways are as follows:\n",
    "\n",
    "(1) Feeding with more training data: meaning that we are providing more information to the machine learning algorithms to understand the varieties and correlate the same before returning the right answer.\n",
    "\n",
    "(2) Feature Engineering such as transformation: it is believed to have a higher ability to explain the variance in the training data\n",
    "\n",
    "(3) Ensemble method: the idea is that the combined knowledge of these models will give a more accurate final result than the knowledge of any single one of them."
   ]
  },
  {
   "cell_type": "markdown",
   "metadata": {},
   "source": [
    "### Logistic Regression"
   ]
  },
  {
   "cell_type": "code",
   "execution_count": 73,
   "metadata": {},
   "outputs": [
    {
     "name": "stdout",
     "output_type": "stream",
     "text": [
      "Train size| Accuracy\n",
      "-----------------------\n",
      "0.5       | 0.95088   \n",
      "0.6       | 0.97368   \n",
      "0.7       | 0.9883    \n",
      "0.8       | 0.97368   \n"
     ]
    }
   ],
   "source": [
    "# Increasing the size of train set from 50% to 80%\n",
    "# LogisticRegression\n",
    "TestSize = [0.5, 0.4, 0.3, 0.2]\n",
    "acc = []\n",
    "for s in TestSize:\n",
    "    X_train2, X_test2, y_train2, y_test2 = train_test_split(X, y, stratify=y, random_state = 55, test_size= s)\n",
    "    clf = LogisticRegression(max_iter = 10000, solver='lbfgs', penalty='l2', C=0.1)\n",
    "    # Fitting the model\n",
    "    clf.fit(X_train2, y_train2)\n",
    "    # Make prediction - Test set\n",
    "    pred = clf.predict(X_test2)\n",
    "    # Accuracy Score\n",
    "    acc.append(metrics.accuracy_score(y_true = y_test2, y_pred = pred))\n",
    "    \n",
    "train = [0.5, 0.6, 0.7, 0.8]\n",
    "print(\"Train size| Accuracy\")\n",
    "print(\"-----------------------\")\n",
    "for i, j in zip(train, acc):\n",
    "    print (\"{:<10}| {:<10}\".format(i, round(j,5)))"
   ]
  },
  {
   "cell_type": "code",
   "execution_count": 74,
   "metadata": {},
   "outputs": [
    {
     "name": "stdout",
     "output_type": "stream",
     "text": [
      "Train size| Accuracy\n",
      "-----------------------\n",
      "0.5       | 0.98596   \n",
      "0.6       | 0.99123   \n",
      "0.7       | 0.9883    \n",
      "0.8       | 0.98246   \n"
     ]
    }
   ],
   "source": [
    "# Training size increasing with Feature transformation\n",
    "# LogisticRegression\n",
    "TestSize = [0.5, 0.4, 0.3, 0.2]\n",
    "acc = []\n",
    "for s in TestSize:\n",
    "    X_train2, X_test2, y_train2, y_test2 = train_test_split(X, y, stratify=y, random_state = 55, test_size= s)\n",
    "    clf = LogisticRegression(max_iter = 10000, solver='lbfgs', penalty='l2', C=0.1)\n",
    "    \n",
    "    # preprocessing\n",
    "    ss = preprocessing.StandardScaler()\n",
    "    X_train_ss = ss.fit_transform(X_train2)\n",
    "    X_test_ss = ss.transform(X_test2)\n",
    "    \n",
    "    # Fitting the model\n",
    "    clf.fit(X_train_ss, y_train2)\n",
    "    # Make prediction - Test set\n",
    "    pred = clf.predict(X_test_ss)\n",
    "    # Accuracy Score\n",
    "    acc.append(metrics.accuracy_score(y_true = y_test2, y_pred = pred))\n",
    "    \n",
    "train = [0.5, 0.6, 0.7, 0.8]\n",
    "print(\"Train size| Accuracy\")\n",
    "print(\"-----------------------\")\n",
    "for i, j in zip(train, acc):\n",
    "    print (\"{:<10}| {:<10}\".format(i, round(j,5)))"
   ]
  },
  {
   "cell_type": "markdown",
   "metadata": {},
   "source": [
    "In this logistic model, I tried to vary the size of training - testing sets from 50% to 80%. The first trial without data transformation shows that when the training set has been fed with more data, the accuracy tends to increase.\n",
    "\n",
    "Second experiment, I tried dataset with different training size together with feature transformation. When compared side by side with the first experiemnt, it could be seen that the accuracy also increase by this method with the same training size. "
   ]
  },
  {
   "cell_type": "markdown",
   "metadata": {},
   "source": [
    "### GaussiansNB"
   ]
  },
  {
   "cell_type": "code",
   "execution_count": 75,
   "metadata": {},
   "outputs": [
    {
     "name": "stdout",
     "output_type": "stream",
     "text": [
      "Train size | Accuracy\n",
      "0.5       | 0.93684   \n",
      "0.6       | 0.95175   \n",
      "0.7       | 0.94737   \n",
      "0.8       | 0.95614   \n"
     ]
    }
   ],
   "source": [
    "# Increasing the size of train set from 50% to 90%\n",
    "# GaussianNB\n",
    "TestSize = [0.5, 0.4, 0.3, 0.2]\n",
    "acc = []\n",
    "for s in TestSize:\n",
    "    X_train2, X_test2, y_train2, y_test2 = train_test_split(X, y, stratify=y, random_state = 55, test_size= s)\n",
    "    GNB = GaussianNB()\n",
    "    # Fitting the model\n",
    "    GNB.fit(X_train2, y_train2)\n",
    "    # Make prediction - Test set\n",
    "    pred_GNB_test = GNB.predict(X_test2)\n",
    "    # Accuracy Score\n",
    "    acc.append(metrics.accuracy_score(y_true = y_test2, y_pred = pred_GNB_test))\n",
    "    \n",
    "train = [0.5, 0.6, 0.7, 0.8]\n",
    "print(\"Train size | Accuracy\")\n",
    "for i, j in zip(train, acc):\n",
    "    print (\"{:<10}| {:<10}\".format(i, round(j,5)))"
   ]
  },
  {
   "cell_type": "code",
   "execution_count": 76,
   "metadata": {},
   "outputs": [
    {
     "name": "stdout",
     "output_type": "stream",
     "text": [
      "Train size| Accuracy\n",
      "-----------------------\n",
      "0.5       | 0.92281   \n",
      "0.6       | 0.9386    \n",
      "0.7       | 0.93567   \n",
      "0.8       | 0.9386    \n"
     ]
    }
   ],
   "source": [
    "# Training size increasing with Feature transformation\n",
    "# GaussianNB\n",
    "TestSize = [0.5, 0.4, 0.3, 0.2]\n",
    "acc = []\n",
    "for s in TestSize:\n",
    "    X_train2, X_test2, y_train2, y_test2 = train_test_split(X, y, stratify=y, random_state = 55, test_size= s)\n",
    "    clf = GaussianNB()\n",
    "    # preprocessing\n",
    "    ss = preprocessing.StandardScaler()\n",
    "    X_train_ss = ss.fit_transform(X_train2)\n",
    "    X_test_ss = ss.transform(X_test2)\n",
    "    \n",
    "    # Fitting the model\n",
    "    clf.fit(X_train_ss, y_train2)\n",
    "    # Make prediction - Test set\n",
    "    pred = clf.predict(X_test_ss)\n",
    "    # Accuracy Score\n",
    "    acc.append(metrics.accuracy_score(y_true = y_test2, y_pred = pred))\n",
    "    \n",
    "train = [0.5, 0.6, 0.7, 0.8]\n",
    "print(\"Train size| Accuracy\")\n",
    "print(\"-----------------------\")\n",
    "for i, j in zip(train, acc):\n",
    "    print (\"{:<10}| {:<10}\".format(i, round(j,5)))"
   ]
  },
  {
   "cell_type": "markdown",
   "metadata": {},
   "source": [
    "For Gaussian Naive Bayes, this model does not show much difference of accuracy when varying the size of training set as this method is not affected by the curse of dimensionality and large feature sets. When the transformation is applied to various training size of training set, it also displays minimal to none difference. \n",
    "\n",
    "In addition, Naive Bayes offers two hyperparameters to tune for smoothing: alpha and beta. A hyperparameter is a prior parameter that are tuned on the training set to optimize it. Moreover, this model can be fooled by the correlated variables that were shown and identified earlier. Hence, this two proposed methods might not significantly improve the model. "
   ]
  },
  {
   "cell_type": "markdown",
   "metadata": {},
   "source": [
    "### KNN"
   ]
  },
  {
   "cell_type": "code",
   "execution_count": 77,
   "metadata": {},
   "outputs": [
    {
     "name": "stdout",
     "output_type": "stream",
     "text": [
      "Train size | Accuracy\n",
      "0.5       | 0.92982   \n",
      "0.6       | 0.94298   \n",
      "0.7       | 0.94152   \n",
      "0.8       | 0.92982   \n"
     ]
    }
   ],
   "source": [
    "# Increasing the size of train set from 50% to 90%\n",
    "# KNeighborsClassifier\n",
    "TestSize = [0.5, 0.4, 0.3, 0.2]\n",
    "acc = []\n",
    "for s in TestSize:\n",
    "    X_train2, X_test2, y_train2, y_test2 = train_test_split(X, y, stratify=y, random_state = 55, test_size= s)\n",
    "    clf = KNeighborsClassifier(n_neighbors=9)\n",
    "    clf.fit(X_train2, y_train2)\n",
    "    # Make prediction - Test set\n",
    "    pred_test = clf.predict(X_test2)\n",
    "    # Accuracy Score\n",
    "    acc.append(metrics.accuracy_score(y_true = y_test2, y_pred = pred_test))\n",
    "    \n",
    "train = [0.5, 0.6, 0.7, 0.8]\n",
    "print(\"Train size | Accuracy\")\n",
    "for i, j in zip(train, acc):\n",
    "    print (\"{:<10}| {:<10}\".format(i, round(j,5)))"
   ]
  },
  {
   "cell_type": "code",
   "execution_count": 78,
   "metadata": {},
   "outputs": [
    {
     "name": "stdout",
     "output_type": "stream",
     "text": [
      "Train size| Accuracy\n",
      "-----------------------\n",
      "0.5       | 0.97895   \n",
      "0.6       | 0.98684   \n",
      "0.7       | 0.97661   \n",
      "0.8       | 0.97368   \n"
     ]
    }
   ],
   "source": [
    "# Training size increasing with Feature transformation\n",
    "# KNeighborsClassifier\n",
    "TestSize = [0.5, 0.4, 0.3, 0.2]\n",
    "acc = []\n",
    "for s in TestSize:\n",
    "    X_train2, X_test2, y_train2, y_test2 = train_test_split(X, y, stratify=y, random_state = 55, test_size= s)\n",
    "    clf = KNeighborsClassifier(n_neighbors=9)\n",
    "    # preprocessing\n",
    "    ss = preprocessing.StandardScaler()\n",
    "    X_train_ss = ss.fit_transform(X_train2)\n",
    "    X_test_ss = ss.transform(X_test2)\n",
    "    \n",
    "    # Fitting the model\n",
    "    clf.fit(X_train_ss, y_train2)\n",
    "    # Make prediction - Test set\n",
    "    pred = clf.predict(X_test_ss)\n",
    "    # Accuracy Score\n",
    "    acc.append(metrics.accuracy_score(y_true = y_test2, y_pred = pred))\n",
    "    \n",
    "train = [0.5, 0.6, 0.7, 0.8]\n",
    "print(\"Train size| Accuracy\")\n",
    "print(\"-----------------------\")\n",
    "for i, j in zip(train, acc):\n",
    "    print (\"{:<10}| {:<10}\".format(i, round(j,5)))"
   ]
  },
  {
   "cell_type": "markdown",
   "metadata": {},
   "source": [
    "For this KNN model, when varying the size of training set in the first experiemnt, the accuracy get a little bit improved then level off, it goes up using size 50% to 70% then come down a little bit when using more than 80%. \n",
    "\n",
    "On the other hand, the accuracy stays quite stable across second experiemnt when the transformation is applied. Compared between first and second experiemnt, the accuracy are increased when using transformation processes. This is due to the fact that KNN works by finding the distances between a query and all the examples in the data, selecting the specified number examples (K=9) closest to the query, then votes for the most frequent label. "
   ]
  }
 ],
 "metadata": {
  "colab": {
   "collapsed_sections": [],
   "name": "Copy of Multiclass Classification.ipynb",
   "provenance": [],
   "version": "0.3.2"
  },
  "kernelspec": {
   "display_name": "Python 3",
   "language": "python",
   "name": "python3"
  },
  "language_info": {
   "codemirror_mode": {
    "name": "ipython",
    "version": 3
   },
   "file_extension": ".py",
   "mimetype": "text/x-python",
   "name": "python",
   "nbconvert_exporter": "python",
   "pygments_lexer": "ipython3",
   "version": "3.7.4"
  },
  "toc": {
   "base_numbering": 1,
   "nav_menu": {},
   "number_sections": false,
   "sideBar": false,
   "skip_h1_title": false,
   "title_cell": "Table of Contents",
   "title_sidebar": "Contents",
   "toc_cell": false,
   "toc_position": {},
   "toc_section_display": false,
   "toc_window_display": false
  }
 },
 "nbformat": 4,
 "nbformat_minor": 1
}
